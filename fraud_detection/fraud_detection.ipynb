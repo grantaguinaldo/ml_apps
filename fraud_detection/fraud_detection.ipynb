{
 "cells": [
  {
   "cell_type": "code",
   "execution_count": 1,
   "metadata": {},
   "outputs": [],
   "source": [
    "import pandas as pd\n",
    "import random, os\n",
    "import numpy as np\n",
    "import matplotlib.pyplot as plt\n",
    "from sklearn.preprocessing import OneHotEncoder\n",
    "from sklearn.preprocessing import StandardScaler\n",
    "from sklearn.pipeline import Pipeline\n",
    "from sklearn.compose import ColumnTransformer\n",
    "from sklearn.linear_model import LogisticRegression\n",
    "from sklearn.model_selection import train_test_split\n",
    "from sklearn.metrics import confusion_matrix, roc_curve, roc_auc_score\n",
    "\n",
    "%matplotlib inline"
   ]
  },
  {
   "cell_type": "code",
   "execution_count": 2,
   "metadata": {},
   "outputs": [],
   "source": [
    "def seed_env(seed_var=0):\n",
    "    random.seed(seed_var)\n",
    "    os.environ['PYTHONHASHSEED'] = str(seed_var)\n",
    "    np.random.seed(seed_var)\n",
    "    \n",
    "seed_value = 42\n",
    "seed_env(seed_value)"
   ]
  },
  {
   "cell_type": "code",
   "execution_count": 3,
   "metadata": {},
   "outputs": [],
   "source": [
    "df1 = pd.read_csv('./data_in/test_identity.csv')\n",
    "df2 = pd.read_csv('./data_in/test_transaction.csv')\n",
    "df3 = pd.read_csv('./data_in/train_identity.csv')\n",
    "df4 = pd.read_csv('./data_in/train_transaction.csv')"
   ]
  },
  {
   "cell_type": "code",
   "execution_count": 4,
   "metadata": {},
   "outputs": [
    {
     "name": "stdout",
     "output_type": "stream",
     "text": [
      "Shape of df1: (141907, 41)\n",
      "Shape of df2: (506691, 393)\n",
      "Shape of df3: (144233, 41)\n",
      "Shape of df4: (590540, 394)\n"
     ]
    }
   ],
   "source": [
    "print('Shape of df1: {}'.format(df1.shape))\n",
    "print('Shape of df2: {}'.format(df2.shape))\n",
    "print('Shape of df3: {}'.format(df3.shape))\n",
    "print('Shape of df4: {}'.format(df4.shape))"
   ]
  },
  {
   "cell_type": "code",
   "execution_count": 5,
   "metadata": {},
   "outputs": [
    {
     "name": "stderr",
     "output_type": "stream",
     "text": [
      "/Users/gta/anaconda3/lib/python3.7/site-packages/ipykernel_launcher.py:2: FutureWarning: Sorting because non-concatenation axis is not aligned. A future version\n",
      "of pandas will change to not sort by default.\n",
      "\n",
      "To accept the future behavior, pass 'sort=False'.\n",
      "\n",
      "To retain the current behavior and silence the warning, pass 'sort=True'.\n",
      "\n",
      "  \n"
     ]
    }
   ],
   "source": [
    "df_identity = pd.concat([df1, df3])\n",
    "df_transaction = pd.concat([df2, df4])"
   ]
  },
  {
   "cell_type": "code",
   "execution_count": 6,
   "metadata": {},
   "outputs": [
    {
     "data": {
      "text/plain": [
       "(286140, 41)"
      ]
     },
     "execution_count": 6,
     "metadata": {},
     "output_type": "execute_result"
    }
   ],
   "source": [
    "df_identity.shape"
   ]
  },
  {
   "cell_type": "code",
   "execution_count": 7,
   "metadata": {},
   "outputs": [
    {
     "data": {
      "text/plain": [
       "(1097231, 394)"
      ]
     },
     "execution_count": 7,
     "metadata": {},
     "output_type": "execute_result"
    }
   ],
   "source": [
    "df_transaction.shape"
   ]
  },
  {
   "cell_type": "code",
   "execution_count": 8,
   "metadata": {},
   "outputs": [],
   "source": [
    "df = pd.merge(df_identity, df_transaction, on='TransactionID', how='inner')"
   ]
  },
  {
   "cell_type": "code",
   "execution_count": 9,
   "metadata": {},
   "outputs": [
    {
     "data": {
      "text/plain": [
       "(286140, 434)"
      ]
     },
     "execution_count": 9,
     "metadata": {},
     "output_type": "execute_result"
    }
   ],
   "source": [
    "df.shape"
   ]
  },
  {
   "cell_type": "code",
   "execution_count": 10,
   "metadata": {},
   "outputs": [],
   "source": [
    "#Remove any columns that have more than 90% of the values missing.\n",
    "df = df.loc[:, df.isnull().mean() < 0.9]\n",
    "\n",
    "#Remove any rows that have a NaN in the 'isFraud' column.\n",
    "df = df[pd.notnull(df['isFraud'])]"
   ]
  },
  {
   "cell_type": "code",
   "execution_count": 11,
   "metadata": {},
   "outputs": [
    {
     "data": {
      "text/plain": [
       "(144233, 404)"
      ]
     },
     "execution_count": 11,
     "metadata": {},
     "output_type": "execute_result"
    }
   ],
   "source": [
    "df.shape"
   ]
  },
  {
   "cell_type": "code",
   "execution_count": 12,
   "metadata": {},
   "outputs": [
    {
     "data": {
      "text/plain": [
       "0.0    132915\n",
       "1.0     11318\n",
       "Name: isFraud, dtype: int64"
      ]
     },
     "execution_count": 12,
     "metadata": {},
     "output_type": "execute_result"
    }
   ],
   "source": [
    "df['isFraud'].value_counts()"
   ]
  },
  {
   "cell_type": "code",
   "execution_count": 13,
   "metadata": {},
   "outputs": [
    {
     "data": {
      "text/plain": [
       "{dtype('int64'), dtype('float64'), dtype('O')}"
      ]
     },
     "execution_count": 13,
     "metadata": {},
     "output_type": "execute_result"
    }
   ],
   "source": [
    "set(df.dtypes.tolist())"
   ]
  },
  {
   "cell_type": "code",
   "execution_count": 14,
   "metadata": {},
   "outputs": [
    {
     "data": {
      "text/plain": [
       "(144233, 404)"
      ]
     },
     "execution_count": 14,
     "metadata": {},
     "output_type": "execute_result"
    }
   ],
   "source": [
    "df.shape"
   ]
  },
  {
   "cell_type": "code",
   "execution_count": 15,
   "metadata": {},
   "outputs": [],
   "source": [
    "cat_cols = df.columns[df.dtypes == object].tolist()\n",
    "int_cols = df.columns[df.dtypes == int].tolist()\n",
    "float_cols = df.columns[df.dtypes == float].tolist()"
   ]
  },
  {
   "cell_type": "code",
   "execution_count": 16,
   "metadata": {},
   "outputs": [
    {
     "data": {
      "text/plain": [
       "['id_01', 'id_02', 'id_03', 'id_04', 'id_05']"
      ]
     },
     "execution_count": 16,
     "metadata": {},
     "output_type": "execute_result"
    }
   ],
   "source": [
    "float_cols[:5]"
   ]
  },
  {
   "cell_type": "code",
   "execution_count": 17,
   "metadata": {},
   "outputs": [
    {
     "data": {
      "text/plain": [
       "380"
      ]
     },
     "execution_count": 17,
     "metadata": {},
     "output_type": "execute_result"
    }
   ],
   "source": [
    "#These fields need to be standardized using standard scaler. \n",
    "len(float_cols)"
   ]
  },
  {
   "cell_type": "code",
   "execution_count": 18,
   "metadata": {},
   "outputs": [
    {
     "name": "stdout",
     "output_type": "stream",
     "text": [
      "Total number of unique values: 8499\n",
      "Total Number of Features: ['TransactionID', 'TransactionDT', 'card1']\n"
     ]
    }
   ],
   "source": [
    "#High cardinality columns. We will remove these from the dataset. \n",
    "print('Total number of unique values: {}'.format(len(df[int_cols]['card1'].value_counts())))\n",
    "print('Total Number of Features: {}'.format(int_cols))"
   ]
  },
  {
   "cell_type": "code",
   "execution_count": 19,
   "metadata": {},
   "outputs": [
    {
     "data": {
      "text/plain": [
       "['id_12', 'id_15', 'id_16', 'id_28', 'id_29']"
      ]
     },
     "execution_count": 19,
     "metadata": {},
     "output_type": "execute_result"
    }
   ],
   "source": [
    "cat_cols[:5]"
   ]
  },
  {
   "cell_type": "code",
   "execution_count": 20,
   "metadata": {},
   "outputs": [
    {
     "data": {
      "text/plain": [
       "21"
      ]
     },
     "execution_count": 20,
     "metadata": {},
     "output_type": "execute_result"
    }
   ],
   "source": [
    "#These fields need to be encoded using onehotencoding.\n",
    "len(cat_cols)"
   ]
  },
  {
   "cell_type": "markdown",
   "metadata": {},
   "source": [
    "## Initial EDA\n",
    "From the inital review, it seems that all of the columns that have int values can be removed from the dataset. \n",
    "This includes `['TransactionID', 'TransactionDT', 'card1']`. We also need to remove the target column `isFraud`."
   ]
  },
  {
   "cell_type": "code",
   "execution_count": 21,
   "metadata": {},
   "outputs": [
    {
     "name": "stdout",
     "output_type": "stream",
     "text": [
      "<class 'pandas.core.frame.DataFrame'>\n",
      "Int64Index: 144233 entries, 141907 to 286139\n",
      "Data columns (total 21 columns):\n",
      "id_12            144233 non-null object\n",
      "id_15            140985 non-null object\n",
      "id_16            129340 non-null object\n",
      "id_28            140978 non-null object\n",
      "id_29            140978 non-null object\n",
      "id_30            77565 non-null object\n",
      "id_31            140282 non-null object\n",
      "id_33            73289 non-null object\n",
      "id_34            77805 non-null object\n",
      "id_35            140985 non-null object\n",
      "id_36            140985 non-null object\n",
      "id_37            140985 non-null object\n",
      "id_38            140985 non-null object\n",
      "DeviceType       140810 non-null object\n",
      "DeviceInfo       118666 non-null object\n",
      "M4               60831 non-null object\n",
      "P_emaildomain    130842 non-null object\n",
      "ProductCD        144233 non-null object\n",
      "R_emaildomain    131083 non-null object\n",
      "card4            144049 non-null object\n",
      "card6            144055 non-null object\n",
      "dtypes: object(21)\n",
      "memory usage: 24.2+ MB\n"
     ]
    }
   ],
   "source": [
    "df[cat_cols].info()"
   ]
  },
  {
   "cell_type": "code",
   "execution_count": 22,
   "metadata": {},
   "outputs": [
    {
     "data": {
      "text/html": [
       "<div>\n",
       "<style scoped>\n",
       "    .dataframe tbody tr th:only-of-type {\n",
       "        vertical-align: middle;\n",
       "    }\n",
       "\n",
       "    .dataframe tbody tr th {\n",
       "        vertical-align: top;\n",
       "    }\n",
       "\n",
       "    .dataframe thead th {\n",
       "        text-align: right;\n",
       "    }\n",
       "</style>\n",
       "<table border=\"1\" class=\"dataframe\">\n",
       "  <thead>\n",
       "    <tr style=\"text-align: right;\">\n",
       "      <th></th>\n",
       "      <th>count</th>\n",
       "      <th>mean</th>\n",
       "      <th>std</th>\n",
       "      <th>min</th>\n",
       "      <th>25%</th>\n",
       "      <th>50%</th>\n",
       "      <th>75%</th>\n",
       "      <th>max</th>\n",
       "    </tr>\n",
       "  </thead>\n",
       "  <tbody>\n",
       "    <tr>\n",
       "      <td>id_01</td>\n",
       "      <td>144233.0</td>\n",
       "      <td>-10.170502</td>\n",
       "      <td>14.347949</td>\n",
       "      <td>-100.0</td>\n",
       "      <td>-10.0</td>\n",
       "      <td>-5.0</td>\n",
       "      <td>-5.0</td>\n",
       "      <td>0.0</td>\n",
       "    </tr>\n",
       "    <tr>\n",
       "      <td>id_02</td>\n",
       "      <td>140872.0</td>\n",
       "      <td>174716.584708</td>\n",
       "      <td>159651.816856</td>\n",
       "      <td>1.0</td>\n",
       "      <td>67992.0</td>\n",
       "      <td>125800.5</td>\n",
       "      <td>228749.0</td>\n",
       "      <td>999595.0</td>\n",
       "    </tr>\n",
       "    <tr>\n",
       "      <td>id_03</td>\n",
       "      <td>66324.0</td>\n",
       "      <td>0.060189</td>\n",
       "      <td>0.598231</td>\n",
       "      <td>-13.0</td>\n",
       "      <td>0.0</td>\n",
       "      <td>0.0</td>\n",
       "      <td>0.0</td>\n",
       "      <td>10.0</td>\n",
       "    </tr>\n",
       "    <tr>\n",
       "      <td>id_04</td>\n",
       "      <td>66324.0</td>\n",
       "      <td>-0.058938</td>\n",
       "      <td>0.701015</td>\n",
       "      <td>-28.0</td>\n",
       "      <td>0.0</td>\n",
       "      <td>0.0</td>\n",
       "      <td>0.0</td>\n",
       "      <td>0.0</td>\n",
       "    </tr>\n",
       "    <tr>\n",
       "      <td>id_05</td>\n",
       "      <td>136865.0</td>\n",
       "      <td>1.615585</td>\n",
       "      <td>5.249856</td>\n",
       "      <td>-72.0</td>\n",
       "      <td>0.0</td>\n",
       "      <td>0.0</td>\n",
       "      <td>1.0</td>\n",
       "      <td>52.0</td>\n",
       "    </tr>\n",
       "    <tr>\n",
       "      <td>...</td>\n",
       "      <td>...</td>\n",
       "      <td>...</td>\n",
       "      <td>...</td>\n",
       "      <td>...</td>\n",
       "      <td>...</td>\n",
       "      <td>...</td>\n",
       "      <td>...</td>\n",
       "      <td>...</td>\n",
       "    </tr>\n",
       "    <tr>\n",
       "      <td>card2</td>\n",
       "      <td>143331.0</td>\n",
       "      <td>391.325526</td>\n",
       "      <td>160.327848</td>\n",
       "      <td>100.0</td>\n",
       "      <td>264.0</td>\n",
       "      <td>408.0</td>\n",
       "      <td>545.0</td>\n",
       "      <td>600.0</td>\n",
       "    </tr>\n",
       "    <tr>\n",
       "      <td>card3</td>\n",
       "      <td>144061.0</td>\n",
       "      <td>161.695504</td>\n",
       "      <td>19.410116</td>\n",
       "      <td>100.0</td>\n",
       "      <td>150.0</td>\n",
       "      <td>150.0</td>\n",
       "      <td>185.0</td>\n",
       "      <td>231.0</td>\n",
       "    </tr>\n",
       "    <tr>\n",
       "      <td>card5</td>\n",
       "      <td>143277.0</td>\n",
       "      <td>191.166293</td>\n",
       "      <td>44.774337</td>\n",
       "      <td>100.0</td>\n",
       "      <td>138.0</td>\n",
       "      <td>224.0</td>\n",
       "      <td>226.0</td>\n",
       "      <td>237.0</td>\n",
       "    </tr>\n",
       "    <tr>\n",
       "      <td>dist2</td>\n",
       "      <td>37593.0</td>\n",
       "      <td>231.945575</td>\n",
       "      <td>529.251862</td>\n",
       "      <td>0.0</td>\n",
       "      <td>7.0</td>\n",
       "      <td>37.0</td>\n",
       "      <td>206.0</td>\n",
       "      <td>11623.0</td>\n",
       "    </tr>\n",
       "    <tr>\n",
       "      <td>isFraud</td>\n",
       "      <td>144233.0</td>\n",
       "      <td>0.078470</td>\n",
       "      <td>0.268911</td>\n",
       "      <td>0.0</td>\n",
       "      <td>0.0</td>\n",
       "      <td>0.0</td>\n",
       "      <td>0.0</td>\n",
       "      <td>1.0</td>\n",
       "    </tr>\n",
       "  </tbody>\n",
       "</table>\n",
       "<p>380 rows × 8 columns</p>\n",
       "</div>"
      ],
      "text/plain": [
       "            count           mean            std    min      25%       50%  \\\n",
       "id_01    144233.0     -10.170502      14.347949 -100.0    -10.0      -5.0   \n",
       "id_02    140872.0  174716.584708  159651.816856    1.0  67992.0  125800.5   \n",
       "id_03     66324.0       0.060189       0.598231  -13.0      0.0       0.0   \n",
       "id_04     66324.0      -0.058938       0.701015  -28.0      0.0       0.0   \n",
       "id_05    136865.0       1.615585       5.249856  -72.0      0.0       0.0   \n",
       "...           ...            ...            ...    ...      ...       ...   \n",
       "card2    143331.0     391.325526     160.327848  100.0    264.0     408.0   \n",
       "card3    144061.0     161.695504      19.410116  100.0    150.0     150.0   \n",
       "card5    143277.0     191.166293      44.774337  100.0    138.0     224.0   \n",
       "dist2     37593.0     231.945575     529.251862    0.0      7.0      37.0   \n",
       "isFraud  144233.0       0.078470       0.268911    0.0      0.0       0.0   \n",
       "\n",
       "              75%       max  \n",
       "id_01        -5.0       0.0  \n",
       "id_02    228749.0  999595.0  \n",
       "id_03         0.0      10.0  \n",
       "id_04         0.0       0.0  \n",
       "id_05         1.0      52.0  \n",
       "...           ...       ...  \n",
       "card2       545.0     600.0  \n",
       "card3       185.0     231.0  \n",
       "card5       226.0     237.0  \n",
       "dist2       206.0   11623.0  \n",
       "isFraud       0.0       1.0  \n",
       "\n",
       "[380 rows x 8 columns]"
      ]
     },
     "execution_count": 22,
     "metadata": {},
     "output_type": "execute_result"
    }
   ],
   "source": [
    "df[float_cols].describe().T"
   ]
  },
  {
   "cell_type": "code",
   "execution_count": 23,
   "metadata": {},
   "outputs": [
    {
     "data": {
      "text/plain": [
       "['id_01', 'id_02', 'id_03', 'id_04', 'id_05']"
      ]
     },
     "execution_count": 23,
     "metadata": {},
     "output_type": "execute_result"
    }
   ],
   "source": [
    "df[float_cols].columns.tolist()[:5]\n",
    "#Out of all of tehse fields, `'TransactionAmt'` may be the best feature."
   ]
  },
  {
   "cell_type": "code",
   "execution_count": 24,
   "metadata": {},
   "outputs": [
    {
     "data": {
      "text/plain": [
       "['id_12',\n",
       " 'id_15',\n",
       " 'id_16',\n",
       " 'id_28',\n",
       " 'id_29',\n",
       " 'id_30',\n",
       " 'id_31',\n",
       " 'id_33',\n",
       " 'id_34',\n",
       " 'id_35',\n",
       " 'id_36',\n",
       " 'id_37',\n",
       " 'id_38',\n",
       " 'DeviceType',\n",
       " 'DeviceInfo',\n",
       " 'M4',\n",
       " 'P_emaildomain',\n",
       " 'ProductCD',\n",
       " 'R_emaildomain',\n",
       " 'card4',\n",
       " 'card6']"
      ]
     },
     "execution_count": 24,
     "metadata": {},
     "output_type": "execute_result"
    }
   ],
   "source": [
    "df[cat_cols].columns.tolist()"
   ]
  },
  {
   "cell_type": "markdown",
   "metadata": {},
   "source": [
    "### Approach\n",
    "For the first iteration of the model, we'll take the features in `X[cat_cols].columns.tolist()` and add to that, `'TransactionAmt'` from `X[float_cols].columns.tolist()` and use that as the initial dataset for logistic regression. \n",
    "\n",
    "Once the dataset is created, we'll need to impute missing values for both the categorical and continious values, and then proceed to using `StandardScaler` and `onehotencoding` to create the final dataset that can be used for machine learning. To do this, we'll use the `ColumnTransformer` and `Pipeline` methods in sklearn. We can also include the classification model into the `Pipeline` framework.\n",
    "\n",
    "When it comes to missing data, for the categorical values, we'll include the term `Missing` and for the continious variables, we'll impute the median value as the missing values for this round of development."
   ]
  },
  {
   "cell_type": "code",
   "execution_count": 25,
   "metadata": {},
   "outputs": [],
   "source": [
    "final_feat_list = cat_cols\n",
    "\n",
    "#This adds 'TransactionAmt' to the list inplace.\n",
    "final_feat_list.append('TransactionAmt')\n",
    "final_feat_list.append('isFraud')"
   ]
  },
  {
   "cell_type": "code",
   "execution_count": 26,
   "metadata": {},
   "outputs": [
    {
     "data": {
      "text/plain": [
       "['id_12',\n",
       " 'id_15',\n",
       " 'id_16',\n",
       " 'id_28',\n",
       " 'id_29',\n",
       " 'id_30',\n",
       " 'id_31',\n",
       " 'id_33',\n",
       " 'id_34',\n",
       " 'id_35',\n",
       " 'id_36',\n",
       " 'id_37',\n",
       " 'id_38',\n",
       " 'DeviceType',\n",
       " 'DeviceInfo',\n",
       " 'M4',\n",
       " 'P_emaildomain',\n",
       " 'ProductCD',\n",
       " 'R_emaildomain',\n",
       " 'card4',\n",
       " 'card6',\n",
       " 'TransactionAmt',\n",
       " 'isFraud']"
      ]
     },
     "execution_count": 26,
     "metadata": {},
     "output_type": "execute_result"
    }
   ],
   "source": [
    "final_feat_list"
   ]
  },
  {
   "cell_type": "code",
   "execution_count": 27,
   "metadata": {},
   "outputs": [
    {
     "data": {
      "text/html": [
       "<div>\n",
       "<style scoped>\n",
       "    .dataframe tbody tr th:only-of-type {\n",
       "        vertical-align: middle;\n",
       "    }\n",
       "\n",
       "    .dataframe tbody tr th {\n",
       "        vertical-align: top;\n",
       "    }\n",
       "\n",
       "    .dataframe thead th {\n",
       "        text-align: right;\n",
       "    }\n",
       "</style>\n",
       "<table border=\"1\" class=\"dataframe\">\n",
       "  <thead>\n",
       "    <tr style=\"text-align: right;\">\n",
       "      <th></th>\n",
       "      <th>141907</th>\n",
       "      <th>141908</th>\n",
       "      <th>141909</th>\n",
       "    </tr>\n",
       "  </thead>\n",
       "  <tbody>\n",
       "    <tr>\n",
       "      <td>id_12</td>\n",
       "      <td>NotFound</td>\n",
       "      <td>NotFound</td>\n",
       "      <td>NotFound</td>\n",
       "    </tr>\n",
       "    <tr>\n",
       "      <td>id_15</td>\n",
       "      <td>New</td>\n",
       "      <td>New</td>\n",
       "      <td>Found</td>\n",
       "    </tr>\n",
       "    <tr>\n",
       "      <td>id_16</td>\n",
       "      <td>NotFound</td>\n",
       "      <td>NotFound</td>\n",
       "      <td>Found</td>\n",
       "    </tr>\n",
       "    <tr>\n",
       "      <td>id_28</td>\n",
       "      <td>New</td>\n",
       "      <td>New</td>\n",
       "      <td>Found</td>\n",
       "    </tr>\n",
       "    <tr>\n",
       "      <td>id_29</td>\n",
       "      <td>NotFound</td>\n",
       "      <td>NotFound</td>\n",
       "      <td>Found</td>\n",
       "    </tr>\n",
       "    <tr>\n",
       "      <td>id_30</td>\n",
       "      <td>Android 7.0</td>\n",
       "      <td>iOS 11.1.2</td>\n",
       "      <td>NaN</td>\n",
       "    </tr>\n",
       "    <tr>\n",
       "      <td>id_31</td>\n",
       "      <td>samsung browser 6.2</td>\n",
       "      <td>mobile safari 11.0</td>\n",
       "      <td>chrome 62.0</td>\n",
       "    </tr>\n",
       "    <tr>\n",
       "      <td>id_33</td>\n",
       "      <td>2220x1080</td>\n",
       "      <td>1334x750</td>\n",
       "      <td>NaN</td>\n",
       "    </tr>\n",
       "    <tr>\n",
       "      <td>id_34</td>\n",
       "      <td>match_status:2</td>\n",
       "      <td>match_status:1</td>\n",
       "      <td>NaN</td>\n",
       "    </tr>\n",
       "    <tr>\n",
       "      <td>id_35</td>\n",
       "      <td>T</td>\n",
       "      <td>T</td>\n",
       "      <td>F</td>\n",
       "    </tr>\n",
       "    <tr>\n",
       "      <td>id_36</td>\n",
       "      <td>F</td>\n",
       "      <td>F</td>\n",
       "      <td>F</td>\n",
       "    </tr>\n",
       "    <tr>\n",
       "      <td>id_37</td>\n",
       "      <td>T</td>\n",
       "      <td>F</td>\n",
       "      <td>T</td>\n",
       "    </tr>\n",
       "    <tr>\n",
       "      <td>id_38</td>\n",
       "      <td>T</td>\n",
       "      <td>T</td>\n",
       "      <td>T</td>\n",
       "    </tr>\n",
       "    <tr>\n",
       "      <td>DeviceType</td>\n",
       "      <td>mobile</td>\n",
       "      <td>mobile</td>\n",
       "      <td>desktop</td>\n",
       "    </tr>\n",
       "    <tr>\n",
       "      <td>DeviceInfo</td>\n",
       "      <td>SAMSUNG SM-G892A Build/NRD90M</td>\n",
       "      <td>iOS Device</td>\n",
       "      <td>Windows</td>\n",
       "    </tr>\n",
       "    <tr>\n",
       "      <td>M4</td>\n",
       "      <td>NaN</td>\n",
       "      <td>NaN</td>\n",
       "      <td>M0</td>\n",
       "    </tr>\n",
       "    <tr>\n",
       "      <td>P_emaildomain</td>\n",
       "      <td>gmail.com</td>\n",
       "      <td>anonymous.com</td>\n",
       "      <td>gmail.com</td>\n",
       "    </tr>\n",
       "    <tr>\n",
       "      <td>ProductCD</td>\n",
       "      <td>H</td>\n",
       "      <td>H</td>\n",
       "      <td>C</td>\n",
       "    </tr>\n",
       "    <tr>\n",
       "      <td>R_emaildomain</td>\n",
       "      <td>NaN</td>\n",
       "      <td>NaN</td>\n",
       "      <td>gmail.com</td>\n",
       "    </tr>\n",
       "    <tr>\n",
       "      <td>card4</td>\n",
       "      <td>mastercard</td>\n",
       "      <td>visa</td>\n",
       "      <td>mastercard</td>\n",
       "    </tr>\n",
       "    <tr>\n",
       "      <td>card6</td>\n",
       "      <td>credit</td>\n",
       "      <td>debit</td>\n",
       "      <td>credit</td>\n",
       "    </tr>\n",
       "    <tr>\n",
       "      <td>TransactionAmt</td>\n",
       "      <td>50</td>\n",
       "      <td>15</td>\n",
       "      <td>75.887</td>\n",
       "    </tr>\n",
       "    <tr>\n",
       "      <td>isFraud</td>\n",
       "      <td>0</td>\n",
       "      <td>0</td>\n",
       "      <td>0</td>\n",
       "    </tr>\n",
       "  </tbody>\n",
       "</table>\n",
       "</div>"
      ],
      "text/plain": [
       "                                       141907              141908       141909\n",
       "id_12                                NotFound            NotFound     NotFound\n",
       "id_15                                     New                 New        Found\n",
       "id_16                                NotFound            NotFound        Found\n",
       "id_28                                     New                 New        Found\n",
       "id_29                                NotFound            NotFound        Found\n",
       "id_30                             Android 7.0          iOS 11.1.2          NaN\n",
       "id_31                     samsung browser 6.2  mobile safari 11.0  chrome 62.0\n",
       "id_33                               2220x1080            1334x750          NaN\n",
       "id_34                          match_status:2      match_status:1          NaN\n",
       "id_35                                       T                   T            F\n",
       "id_36                                       F                   F            F\n",
       "id_37                                       T                   F            T\n",
       "id_38                                       T                   T            T\n",
       "DeviceType                             mobile              mobile      desktop\n",
       "DeviceInfo      SAMSUNG SM-G892A Build/NRD90M          iOS Device      Windows\n",
       "M4                                        NaN                 NaN           M0\n",
       "P_emaildomain                       gmail.com       anonymous.com    gmail.com\n",
       "ProductCD                                   H                   H            C\n",
       "R_emaildomain                             NaN                 NaN    gmail.com\n",
       "card4                              mastercard                visa   mastercard\n",
       "card6                                  credit               debit       credit\n",
       "TransactionAmt                             50                  15       75.887\n",
       "isFraud                                     0                   0            0"
      ]
     },
     "execution_count": 27,
     "metadata": {},
     "output_type": "execute_result"
    }
   ],
   "source": [
    "df[final_feat_list].head(3).T"
   ]
  },
  {
   "cell_type": "code",
   "execution_count": 28,
   "metadata": {},
   "outputs": [
    {
     "data": {
      "text/plain": [
       "['id_12',\n",
       " 'id_15',\n",
       " 'id_16',\n",
       " 'id_28',\n",
       " 'id_29',\n",
       " 'id_30',\n",
       " 'id_31',\n",
       " 'id_33',\n",
       " 'id_34',\n",
       " 'id_35',\n",
       " 'id_36',\n",
       " 'id_37',\n",
       " 'id_38',\n",
       " 'DeviceType',\n",
       " 'DeviceInfo',\n",
       " 'M4',\n",
       " 'P_emaildomain',\n",
       " 'ProductCD',\n",
       " 'R_emaildomain',\n",
       " 'card4',\n",
       " 'card6',\n",
       " 'TransactionAmt',\n",
       " 'isFraud']"
      ]
     },
     "execution_count": 28,
     "metadata": {},
     "output_type": "execute_result"
    }
   ],
   "source": [
    "df[final_feat_list].columns.tolist()"
   ]
  },
  {
   "cell_type": "code",
   "execution_count": 29,
   "metadata": {},
   "outputs": [],
   "source": [
    "df = df[final_feat_list]"
   ]
  },
  {
   "cell_type": "code",
   "execution_count": 30,
   "metadata": {},
   "outputs": [],
   "source": [
    "df['id_12'] = df['id_12'].fillna('Missing')\n",
    "df['id_15'] = df['id_15'].fillna('Missing')\n",
    "df['id_16'] = df['id_16'].fillna('Missing')\n",
    "df['id_28'] = df['id_28'].fillna('Missing')\n",
    "df['id_29'] = df['id_29'].fillna('Missing')\n",
    "df['id_30'] = df['id_30'].fillna('Missing')\n",
    "df['id_31'] = df['id_31'].fillna('Missing')\n",
    "df['id_33'] = df['id_33'].fillna('Missing')\n",
    "df['id_34'] = df['id_34'].fillna('Missing')\n",
    "df['id_35'] = df['id_35'].fillna('Missing')\n",
    "df['id_36'] = df['id_36'].fillna('Missing')\n",
    "df['id_37'] = df['id_37'].fillna('Missing')\n",
    "df['id_38'] = df['id_38'].fillna('Missing')\n",
    "df['DeviceType'] = df['DeviceType'].fillna('Missing')\n",
    "df['DeviceInfo'] = df['DeviceInfo'].fillna('Missing')\n",
    "df['M4'] = df['M4'].fillna('Missing')\n",
    "df['P_emaildomain'] = df['P_emaildomain'].fillna('Missing')\n",
    "df['ProductCD'] = df['ProductCD'].fillna('Missing')\n",
    "df['R_emaildomain'] = df['R_emaildomain'].fillna('Missing')\n",
    "df['card4'] = df['card4'].fillna('Missing')\n",
    "df['card6'] = df['card6'].fillna('Missing')\n",
    "df['TransactionAmt'] = df['TransactionAmt'].fillna(np.median)\n",
    "df['isFraud'] = df['isFraud'].astype(int)"
   ]
  },
  {
   "cell_type": "code",
   "execution_count": 31,
   "metadata": {},
   "outputs": [
    {
     "name": "stdout",
     "output_type": "stream",
     "text": [
      "<class 'pandas.core.frame.DataFrame'>\n",
      "Int64Index: 144233 entries, 141907 to 286139\n",
      "Data columns (total 23 columns):\n",
      "id_12             144233 non-null object\n",
      "id_15             144233 non-null object\n",
      "id_16             144233 non-null object\n",
      "id_28             144233 non-null object\n",
      "id_29             144233 non-null object\n",
      "id_30             144233 non-null object\n",
      "id_31             144233 non-null object\n",
      "id_33             144233 non-null object\n",
      "id_34             144233 non-null object\n",
      "id_35             144233 non-null object\n",
      "id_36             144233 non-null object\n",
      "id_37             144233 non-null object\n",
      "id_38             144233 non-null object\n",
      "DeviceType        144233 non-null object\n",
      "DeviceInfo        144233 non-null object\n",
      "M4                144233 non-null object\n",
      "P_emaildomain     144233 non-null object\n",
      "ProductCD         144233 non-null object\n",
      "R_emaildomain     144233 non-null object\n",
      "card4             144233 non-null object\n",
      "card6             144233 non-null object\n",
      "TransactionAmt    144233 non-null float64\n",
      "isFraud           144233 non-null int64\n",
      "dtypes: float64(1), int64(1), object(21)\n",
      "memory usage: 26.4+ MB\n"
     ]
    }
   ],
   "source": [
    "df.info()"
   ]
  },
  {
   "cell_type": "code",
   "execution_count": 32,
   "metadata": {},
   "outputs": [
    {
     "data": {
      "text/plain": [
       "(144233, 23)"
      ]
     },
     "execution_count": 32,
     "metadata": {},
     "output_type": "execute_result"
    }
   ],
   "source": [
    "df.shape"
   ]
  },
  {
   "cell_type": "code",
   "execution_count": 33,
   "metadata": {},
   "outputs": [],
   "source": [
    "cat_features = df.columns[df.dtypes == object].tolist()\n",
    "num_features = df.columns[df.dtypes == float].tolist()"
   ]
  },
  {
   "cell_type": "code",
   "execution_count": 34,
   "metadata": {},
   "outputs": [
    {
     "data": {
      "text/plain": [
       "['TransactionAmt']"
      ]
     },
     "execution_count": 34,
     "metadata": {},
     "output_type": "execute_result"
    }
   ],
   "source": [
    "num_features"
   ]
  },
  {
   "cell_type": "code",
   "execution_count": 35,
   "metadata": {},
   "outputs": [
    {
     "data": {
      "text/plain": [
       "['id_12',\n",
       " 'id_15',\n",
       " 'id_16',\n",
       " 'id_28',\n",
       " 'id_29',\n",
       " 'id_30',\n",
       " 'id_31',\n",
       " 'id_33',\n",
       " 'id_34',\n",
       " 'id_35',\n",
       " 'id_36',\n",
       " 'id_37',\n",
       " 'id_38',\n",
       " 'DeviceType',\n",
       " 'DeviceInfo',\n",
       " 'M4',\n",
       " 'P_emaildomain',\n",
       " 'ProductCD',\n",
       " 'R_emaildomain',\n",
       " 'card4',\n",
       " 'card6']"
      ]
     },
     "execution_count": 35,
     "metadata": {},
     "output_type": "execute_result"
    }
   ],
   "source": [
    "cat_features"
   ]
  },
  {
   "cell_type": "code",
   "execution_count": 36,
   "metadata": {},
   "outputs": [],
   "source": [
    "cat_transformer = Pipeline(steps=[\n",
    "    ('onehot', OneHotEncoder(handle_unknown='ignore'))\n",
    "])\n",
    "\n",
    "num_transformer = Pipeline(steps=[\n",
    "    ('scaler', StandardScaler())\n",
    "])\n",
    "\n",
    "preprocesser = ColumnTransformer(transformers=[\n",
    "    ('num', num_transformer, num_features),\n",
    "    ('cat', cat_transformer, cat_features)\n",
    "])\n",
    "\n",
    "clf = Pipeline(steps=[\n",
    "    ('preprocesser', preprocesser),\n",
    "    ('classifier', LogisticRegression(solver='lbfgs', random_state=42))\n",
    "])"
   ]
  },
  {
   "cell_type": "code",
   "execution_count": 37,
   "metadata": {},
   "outputs": [],
   "source": [
    "X = df.drop('isFraud', axis=1)\n",
    "y = df['isFraud']"
   ]
  },
  {
   "cell_type": "code",
   "execution_count": 38,
   "metadata": {},
   "outputs": [],
   "source": [
    "X_train, X_test, y_train, y_test = train_test_split(X, y, test_size=0.25)"
   ]
  },
  {
   "cell_type": "code",
   "execution_count": 39,
   "metadata": {},
   "outputs": [
    {
     "name": "stderr",
     "output_type": "stream",
     "text": [
      "/Users/gta/anaconda3/lib/python3.7/site-packages/sklearn/linear_model/logistic.py:947: ConvergenceWarning: lbfgs failed to converge. Increase the number of iterations.\n",
      "  \"of iterations.\", ConvergenceWarning)\n"
     ]
    },
    {
     "data": {
      "text/plain": [
       "Pipeline(memory=None,\n",
       "         steps=[('preprocesser',\n",
       "                 ColumnTransformer(n_jobs=None, remainder='drop',\n",
       "                                   sparse_threshold=0.3,\n",
       "                                   transformer_weights=None,\n",
       "                                   transformers=[('num',\n",
       "                                                  Pipeline(memory=None,\n",
       "                                                           steps=[('scaler',\n",
       "                                                                   StandardScaler(copy=True,\n",
       "                                                                                  with_mean=True,\n",
       "                                                                                  with_std=True))],\n",
       "                                                           verbose=False),\n",
       "                                                  ['TransactionAmt']),\n",
       "                                                 ('cat',\n",
       "                                                  Pipeline(memory=None,\n",
       "                                                           steps=[('onehot',\n",
       "                                                                   OneHotEncoder(cat...\n",
       "                                                   'DeviceInfo', 'M4',\n",
       "                                                   'P_emaildomain', 'ProductCD',\n",
       "                                                   'R_emaildomain', 'card4',\n",
       "                                                   'card6'])],\n",
       "                                   verbose=False)),\n",
       "                ('classifier',\n",
       "                 LogisticRegression(C=1.0, class_weight=None, dual=False,\n",
       "                                    fit_intercept=True, intercept_scaling=1,\n",
       "                                    l1_ratio=None, max_iter=100,\n",
       "                                    multi_class='warn', n_jobs=None,\n",
       "                                    penalty='l2', random_state=42,\n",
       "                                    solver='lbfgs', tol=0.0001, verbose=0,\n",
       "                                    warm_start=False))],\n",
       "         verbose=False)"
      ]
     },
     "execution_count": 39,
     "metadata": {},
     "output_type": "execute_result"
    }
   ],
   "source": [
    "clf.fit(X_train, y_train)"
   ]
  },
  {
   "cell_type": "code",
   "execution_count": 40,
   "metadata": {},
   "outputs": [],
   "source": [
    "y_pred_class = clf.predict(X_test)"
   ]
  },
  {
   "cell_type": "code",
   "execution_count": 41,
   "metadata": {},
   "outputs": [
    {
     "data": {
      "text/plain": [
       "array([[33091,   142],\n",
       "       [ 2397,   429]])"
      ]
     },
     "execution_count": 41,
     "metadata": {},
     "output_type": "execute_result"
    }
   ],
   "source": [
    "confusion_matrix(y_test, y_pred_class)"
   ]
  },
  {
   "cell_type": "code",
   "execution_count": 42,
   "metadata": {},
   "outputs": [],
   "source": [
    "def plot_roc_curve(fpr, tpr):\n",
    "    plt.plot(fpr, tpr, color='orange', label='ROC')\n",
    "    plt.plot([0, 1], [0, 1], color='darkblue', linestyle='--')\n",
    "    plt.xlabel('False Positive Rate')\n",
    "    plt.ylabel('True Positive Rate')\n",
    "    plt.title('Receiver Operating Characteristic (ROC) Curve')\n",
    "    plt.legend()\n",
    "    plt.grid(True)\n",
    "    plt.show()"
   ]
  },
  {
   "cell_type": "code",
   "execution_count": 43,
   "metadata": {},
   "outputs": [
    {
     "data": {
      "image/png": "[encoded data removed]",
      "text/plain": [
       "<Figure size 432x288 with 1 Axes>"
      ]
     },
     "metadata": {
      "needs_background": "light"
     },
     "output_type": "display_data"
    }
   ],
   "source": [
    "y_pred_proba = clf.predict_proba(X_test)\n",
    "proba = y_pred_proba[:, 1]\n",
    "fpr, tpr, thresholds = roc_curve(y_test, proba)\n",
    "plot_roc_curve(fpr, tpr)"
   ]
  },
  {
   "cell_type": "code",
   "execution_count": 44,
   "metadata": {},
   "outputs": [
    {
     "name": "stdout",
     "output_type": "stream",
     "text": [
      "AUC: 0.841\n"
     ]
    }
   ],
   "source": [
    "auc = roc_auc_score(y_test, proba)\n",
    "print('AUC: {0:.3f}'.format(auc))"
   ]
  },
  {
   "cell_type": "code",
   "execution_count": null,
   "metadata": {},
   "outputs": [],
   "source": []
  },
  {
   "cell_type": "code",
   "execution_count": null,
   "metadata": {},
   "outputs": [],
   "source": []
  },
  {
   "cell_type": "markdown",
   "metadata": {},
   "source": [
    "# EDA of `df_identity`\n",
    "\n",
    "From a high level, we have three different types of datatypes in `df_identity`, namely `int64`, `float64` and `object`. Knowing this will allow us to know how to encode these data.\n",
    "\n",
    "From the code below, we know that we need to use some sort of encoding for columns `['id_12', 'id_15', 'id_16', 'id_23', 'id_27', 'id_28', 'id_29', 'id_30', 'id_31', 'id_33', 'id_34', 'id_35', 'id_36', 'id_37', 'id_38',\n",
    " 'DeviceType', 'DeviceInfo']`. For these columns (which we can treat as catgorical variables), we need to know all of the unique values for each column so that we can encode them.\n",
    " \n",
    "Also, from looking at the dataset, we know that there are a number of missing values that we need to deal with as well.\n",
    " \n"
   ]
  },
  {
   "cell_type": "code",
   "execution_count": null,
   "metadata": {},
   "outputs": [],
   "source": [
    "set(df_identity.dtypes.tolist())"
   ]
  },
  {
   "cell_type": "markdown",
   "metadata": {},
   "source": [
    "### Find all of the `object` variables in `df_identity`\n",
    "\n",
    "Let's take all of the objects and determine the unique values of each so that we know how to encode these variables. "
   ]
  },
  {
   "cell_type": "code",
   "execution_count": null,
   "metadata": {},
   "outputs": [],
   "source": [
    "df_identity.columns[df_identity.dtypes == object]"
   ]
  },
  {
   "cell_type": "code",
   "execution_count": null,
   "metadata": {},
   "outputs": [],
   "source": [
    "df_identity_obj_col = df_identity.columns[df_identity.dtypes == object].tolist()"
   ]
  },
  {
   "cell_type": "code",
   "execution_count": null,
   "metadata": {},
   "outputs": [],
   "source": [
    "df_id_obj = {}\n",
    "for index, col in enumerate(df_identity[df_identity_obj_col]):\n",
    "    df_id_obj[col] = df_identity[df_identity_obj_col][col].unique().tolist()"
   ]
  },
  {
   "cell_type": "code",
   "execution_count": null,
   "metadata": {},
   "outputs": [],
   "source": [
    "df_id_obj.keys()"
   ]
  },
  {
   "cell_type": "code",
   "execution_count": null,
   "metadata": {},
   "outputs": [],
   "source": [
    "df_id_obj"
   ]
  },
  {
   "cell_type": "code",
   "execution_count": null,
   "metadata": {},
   "outputs": [],
   "source": [
    "df_id_obj_len = {}\n",
    "for index, col in enumerate(df_identity[df_identity_obj_col]):\n",
    "    df_id_obj_len[col] = len(df_identity[df_identity_obj_col][col].unique().tolist())"
   ]
  },
  {
   "cell_type": "code",
   "execution_count": null,
   "metadata": {},
   "outputs": [],
   "source": [
    "df_id_obj_len"
   ]
  },
  {
   "cell_type": "markdown",
   "metadata": {},
   "source": [
    "### Find all of the `int` variables in `df_identity`\n",
    "\n",
    "The transaction id is just the unique key for these data. There isn't anything special about this column."
   ]
  },
  {
   "cell_type": "code",
   "execution_count": null,
   "metadata": {},
   "outputs": [],
   "source": [
    "df_identity.columns[df_identity.dtypes == int]"
   ]
  },
  {
   "cell_type": "code",
   "execution_count": null,
   "metadata": {},
   "outputs": [],
   "source": [
    "df_identity_int_col = df_identity.columns[df_identity.dtypes == int].tolist()"
   ]
  },
  {
   "cell_type": "markdown",
   "metadata": {},
   "source": [
    "### Find all of the `float` variables in `df_identity`\n",
    "\n",
    "Once we find all of the float columns, we'll also print out the descriptive stats for these variables. At first pass, the varibles that are floats may not be relevant. **I need to check into this more.**"
   ]
  },
  {
   "cell_type": "code",
   "execution_count": null,
   "metadata": {},
   "outputs": [],
   "source": [
    "df_identity.columns[df_identity.dtypes == float]"
   ]
  },
  {
   "cell_type": "code",
   "execution_count": null,
   "metadata": {},
   "outputs": [],
   "source": [
    "df_identity_float_col = df_identity.columns[df_identity.dtypes == float].tolist()"
   ]
  },
  {
   "cell_type": "code",
   "execution_count": null,
   "metadata": {},
   "outputs": [],
   "source": [
    "plt.figure(figsize=(20, 10))\n",
    "df_identity[df_identity_float_col].drop([\"id_02\"], axis=1).boxplot()\n",
    "plt.ylabel('Values', fontsize = 14)\n",
    "plt.yticks(fontsize=14)\n",
    "plt.xlabel('Column Name in `df_identity`', fontsize = 14)\n",
    "plt.xticks(fontsize=14, rotation=45)\n",
    "plt.title('Boxplot of all float values in df_identity', fontsize=16)\n",
    "plt.show()"
   ]
  },
  {
   "cell_type": "markdown",
   "metadata": {},
   "source": [
    "Let's only take the columns that have either `int` or `object` for the first pass of the analysis."
   ]
  },
  {
   "cell_type": "code",
   "execution_count": null,
   "metadata": {},
   "outputs": [],
   "source": [
    "identity_list = df_identity_int_col + df_identity_obj_col"
   ]
  },
  {
   "cell_type": "markdown",
   "metadata": {},
   "source": [
    "# EDA of `df_transaction`"
   ]
  },
  {
   "cell_type": "code",
   "execution_count": null,
   "metadata": {},
   "outputs": [],
   "source": [
    "set(df_transaction.dtypes.tolist())"
   ]
  },
  {
   "cell_type": "code",
   "execution_count": null,
   "metadata": {},
   "outputs": [],
   "source": [
    "df_transaction_float_col = df_transaction.columns[df_transaction.dtypes == float].tolist()\n",
    "df_transaction_int_col = df_transaction.columns[df_transaction.dtypes == int].tolist()\n",
    "df_transaction_obj_col = df_transaction.columns[df_transaction.dtypes == object].tolist()"
   ]
  },
  {
   "cell_type": "code",
   "execution_count": null,
   "metadata": {},
   "outputs": [],
   "source": [
    "df_transaction_obj_col"
   ]
  },
  {
   "cell_type": "code",
   "execution_count": null,
   "metadata": {},
   "outputs": [],
   "source": [
    "df_trans_obj = {}\n",
    "for index, col in enumerate(df_transaction[df_transaction_obj_col]):\n",
    "    df_trans_obj[col] = df_transaction[df_transaction_obj_col][col].unique().tolist()"
   ]
  },
  {
   "cell_type": "code",
   "execution_count": null,
   "metadata": {},
   "outputs": [],
   "source": [
    "df_trans_obj"
   ]
  },
  {
   "cell_type": "code",
   "execution_count": null,
   "metadata": {},
   "outputs": [],
   "source": [
    "df_trans_obj_len = {}\n",
    "for index, col in enumerate(df_transaction[df_transaction_obj_col]):\n",
    "    df_trans_obj_len[col] = len(df_transaction[df_transaction_obj_col][col].unique().tolist())"
   ]
  },
  {
   "cell_type": "code",
   "execution_count": null,
   "metadata": {},
   "outputs": [],
   "source": [
    "df_trans_obj_len"
   ]
  },
  {
   "cell_type": "markdown",
   "metadata": {},
   "source": [
    "Let's only take the columns that have either `int` or `object` for the first pass of the analysis."
   ]
  },
  {
   "cell_type": "code",
   "execution_count": null,
   "metadata": {},
   "outputs": [],
   "source": [
    "transaction_list = df_transaction_obj_col + df_transaction_int_col\n",
    "transaction_list.append('isFraud')"
   ]
  },
  {
   "cell_type": "code",
   "execution_count": null,
   "metadata": {},
   "outputs": [],
   "source": [
    "transaction_list"
   ]
  },
  {
   "cell_type": "markdown",
   "metadata": {},
   "source": [
    "Since we have the columns that are either `int` or `object` from both lists, let's concatenate them together to form one list."
   ]
  },
  {
   "cell_type": "code",
   "execution_count": null,
   "metadata": {},
   "outputs": [],
   "source": [
    "combined_feature_list = transaction_list + identity_list\n",
    "len(combined_feature_list)"
   ]
  },
  {
   "cell_type": "code",
   "execution_count": null,
   "metadata": {},
   "outputs": [],
   "source": [
    "del_list = [0, 1, 2, 4, 5, 6, 7, 8]\n",
    "new_combined_feature_list = [each for index, each in enumerate(combined_feature_list) if index not in del_list]\n",
    "new_combined_feature_list.append(new_combined_feature_list.pop(new_combined_feature_list.index('isFraud')))\n",
    "new_combined_feature_list"
   ]
  },
  {
   "cell_type": "markdown",
   "metadata": {},
   "source": [
    "This is the filter dataframe that only contains features that are either `int` or `object`"
   ]
  },
  {
   "cell_type": "code",
   "execution_count": null,
   "metadata": {},
   "outputs": [],
   "source": [
    "df_trim_feat = df[new_combined_feature_list]\n",
    "df = df.replace(np.nan, 'Missing', regex=True)"
   ]
  },
  {
   "cell_type": "code",
   "execution_count": null,
   "metadata": {},
   "outputs": [],
   "source": [
    "df.info()"
   ]
  },
  {
   "cell_type": "code",
   "execution_count": null,
   "metadata": {},
   "outputs": [],
   "source": [
    "all_data = df.values"
   ]
  },
  {
   "cell_type": "code",
   "execution_count": null,
   "metadata": {},
   "outputs": [],
   "source": [
    "all_data.shape"
   ]
  },
  {
   "cell_type": "code",
   "execution_count": null,
   "metadata": {},
   "outputs": [],
   "source": [
    "type(all_data)"
   ]
  },
  {
   "cell_type": "code",
   "execution_count": null,
   "metadata": {},
   "outputs": [],
   "source": [
    "ohe = OneHotEncoder()\n",
    "all_data_ohe = ohe.fit_transform(all_data)"
   ]
  },
  {
   "cell_type": "code",
   "execution_count": null,
   "metadata": {},
   "outputs": [],
   "source": [
    "all_data_ohe.shape"
   ]
  }
 ],
 "metadata": {
  "kernelspec": {
   "display_name": "Python 3",
   "language": "python",
   "name": "python3"
  },
  "language_info": {
   "codemirror_mode": {
    "name": "ipython",
    "version": 3
   },
   "file_extension": ".py",
   "mimetype": "text/x-python",
   "name": "python",
   "nbconvert_exporter": "python",
   "pygments_lexer": "ipython3",
   "version": "3.7.4"
  }
 },
 "nbformat": 4,
 "nbformat_minor": 2
}
