{
 "cells": [
  {
   "cell_type": "code",
   "execution_count": 1,
   "metadata": {},
   "outputs": [],
   "source": [
    "import pandas as pd\n",
    "import matplotlib.pyplot as plt\n",
    "import math\n",
    "from sklearn.linear_model import LinearRegression\n",
    "from sklearn.neighbors import KNeighborsRegressor\n",
    "from sklearn.linear_model import Ridge\n",
    "import numpy as np\n",
    "%matplotlib inline"
   ]
  },
  {
   "cell_type": "code",
   "execution_count": 2,
   "metadata": {},
   "outputs": [],
   "source": [
    "df1 = pd.read_csv('./data_in/SRE.csv')"
   ]
  },
  {
   "cell_type": "code",
   "execution_count": 3,
   "metadata": {},
   "outputs": [
    {
     "data": {
      "text/html": [
       "<div>\n",
       "<style scoped>\n",
       "    .dataframe tbody tr th:only-of-type {\n",
       "        vertical-align: middle;\n",
       "    }\n",
       "\n",
       "    .dataframe tbody tr th {\n",
       "        vertical-align: top;\n",
       "    }\n",
       "\n",
       "    .dataframe thead th {\n",
       "        text-align: right;\n",
       "    }\n",
       "</style>\n",
       "<table border=\"1\" class=\"dataframe\">\n",
       "  <thead>\n",
       "    <tr style=\"text-align: right;\">\n",
       "      <th></th>\n",
       "      <th>Date</th>\n",
       "      <th>Open</th>\n",
       "      <th>High</th>\n",
       "      <th>Low</th>\n",
       "      <th>Close</th>\n",
       "      <th>Adj Close</th>\n",
       "      <th>Volume</th>\n",
       "    </tr>\n",
       "  </thead>\n",
       "  <tbody>\n",
       "    <tr>\n",
       "      <td>0</td>\n",
       "      <td>2018-09-04</td>\n",
       "      <td>116.370003</td>\n",
       "      <td>117.449997</td>\n",
       "      <td>116.099998</td>\n",
       "      <td>116.989998</td>\n",
       "      <td>113.424011</td>\n",
       "      <td>2142900</td>\n",
       "    </tr>\n",
       "    <tr>\n",
       "      <td>1</td>\n",
       "      <td>2018-09-05</td>\n",
       "      <td>117.010002</td>\n",
       "      <td>118.279999</td>\n",
       "      <td>116.690002</td>\n",
       "      <td>118.139999</td>\n",
       "      <td>114.538956</td>\n",
       "      <td>1856300</td>\n",
       "    </tr>\n",
       "    <tr>\n",
       "      <td>2</td>\n",
       "      <td>2018-09-06</td>\n",
       "      <td>118.279999</td>\n",
       "      <td>118.970001</td>\n",
       "      <td>117.699997</td>\n",
       "      <td>118.029999</td>\n",
       "      <td>114.432312</td>\n",
       "      <td>1203800</td>\n",
       "    </tr>\n",
       "    <tr>\n",
       "      <td>3</td>\n",
       "      <td>2018-09-07</td>\n",
       "      <td>117.139999</td>\n",
       "      <td>117.589996</td>\n",
       "      <td>116.379997</td>\n",
       "      <td>116.849998</td>\n",
       "      <td>113.288277</td>\n",
       "      <td>1216500</td>\n",
       "    </tr>\n",
       "    <tr>\n",
       "      <td>4</td>\n",
       "      <td>2018-09-10</td>\n",
       "      <td>117.309998</td>\n",
       "      <td>118.199997</td>\n",
       "      <td>116.910004</td>\n",
       "      <td>117.599998</td>\n",
       "      <td>114.015419</td>\n",
       "      <td>1072000</td>\n",
       "    </tr>\n",
       "  </tbody>\n",
       "</table>\n",
       "</div>"
      ],
      "text/plain": [
       "         Date        Open        High         Low       Close   Adj Close  \\\n",
       "0  2018-09-04  116.370003  117.449997  116.099998  116.989998  113.424011   \n",
       "1  2018-09-05  117.010002  118.279999  116.690002  118.139999  114.538956   \n",
       "2  2018-09-06  118.279999  118.970001  117.699997  118.029999  114.432312   \n",
       "3  2018-09-07  117.139999  117.589996  116.379997  116.849998  113.288277   \n",
       "4  2018-09-10  117.309998  118.199997  116.910004  117.599998  114.015419   \n",
       "\n",
       "    Volume  \n",
       "0  2142900  \n",
       "1  1856300  \n",
       "2  1203800  \n",
       "3  1216500  \n",
       "4  1072000  "
      ]
     },
     "execution_count": 3,
     "metadata": {},
     "output_type": "execute_result"
    }
   ],
   "source": [
    "df1.head()"
   ]
  },
  {
   "cell_type": "code",
   "execution_count": 4,
   "metadata": {},
   "outputs": [
    {
     "data": {
      "text/plain": [
       "(250, 7)"
      ]
     },
     "execution_count": 4,
     "metadata": {},
     "output_type": "execute_result"
    }
   ],
   "source": [
    "df1.shape"
   ]
  },
  {
   "cell_type": "code",
   "execution_count": 5,
   "metadata": {},
   "outputs": [
    {
     "data": {
      "text/html": [
       "<div>\n",
       "<style scoped>\n",
       "    .dataframe tbody tr th:only-of-type {\n",
       "        vertical-align: middle;\n",
       "    }\n",
       "\n",
       "    .dataframe tbody tr th {\n",
       "        vertical-align: top;\n",
       "    }\n",
       "\n",
       "    .dataframe thead th {\n",
       "        text-align: right;\n",
       "    }\n",
       "</style>\n",
       "<table border=\"1\" class=\"dataframe\">\n",
       "  <thead>\n",
       "    <tr style=\"text-align: right;\">\n",
       "      <th></th>\n",
       "      <th>Date</th>\n",
       "      <th>Open</th>\n",
       "      <th>High</th>\n",
       "      <th>Low</th>\n",
       "      <th>Close</th>\n",
       "      <th>Adj Close</th>\n",
       "      <th>Volume</th>\n",
       "    </tr>\n",
       "  </thead>\n",
       "  <tbody>\n",
       "    <tr>\n",
       "      <td>245</td>\n",
       "      <td>2019-08-26</td>\n",
       "      <td>139.070007</td>\n",
       "      <td>141.919998</td>\n",
       "      <td>138.990005</td>\n",
       "      <td>141.789993</td>\n",
       "      <td>141.789993</td>\n",
       "      <td>1282700</td>\n",
       "    </tr>\n",
       "    <tr>\n",
       "      <td>246</td>\n",
       "      <td>2019-08-27</td>\n",
       "      <td>142.500000</td>\n",
       "      <td>142.860001</td>\n",
       "      <td>141.029999</td>\n",
       "      <td>141.429993</td>\n",
       "      <td>141.429993</td>\n",
       "      <td>1633400</td>\n",
       "    </tr>\n",
       "    <tr>\n",
       "      <td>247</td>\n",
       "      <td>2019-08-28</td>\n",
       "      <td>141.570007</td>\n",
       "      <td>142.149994</td>\n",
       "      <td>141.009995</td>\n",
       "      <td>142.000000</td>\n",
       "      <td>142.000000</td>\n",
       "      <td>1216400</td>\n",
       "    </tr>\n",
       "    <tr>\n",
       "      <td>248</td>\n",
       "      <td>2019-08-29</td>\n",
       "      <td>142.330002</td>\n",
       "      <td>142.660004</td>\n",
       "      <td>141.639999</td>\n",
       "      <td>142.240005</td>\n",
       "      <td>142.240005</td>\n",
       "      <td>1444300</td>\n",
       "    </tr>\n",
       "    <tr>\n",
       "      <td>249</td>\n",
       "      <td>2019-08-30</td>\n",
       "      <td>142.910004</td>\n",
       "      <td>142.910004</td>\n",
       "      <td>141.320007</td>\n",
       "      <td>141.630005</td>\n",
       "      <td>141.630005</td>\n",
       "      <td>1040300</td>\n",
       "    </tr>\n",
       "  </tbody>\n",
       "</table>\n",
       "</div>"
      ],
      "text/plain": [
       "           Date        Open        High         Low       Close   Adj Close  \\\n",
       "245  2019-08-26  139.070007  141.919998  138.990005  141.789993  141.789993   \n",
       "246  2019-08-27  142.500000  142.860001  141.029999  141.429993  141.429993   \n",
       "247  2019-08-28  141.570007  142.149994  141.009995  142.000000  142.000000   \n",
       "248  2019-08-29  142.330002  142.660004  141.639999  142.240005  142.240005   \n",
       "249  2019-08-30  142.910004  142.910004  141.320007  141.630005  141.630005   \n",
       "\n",
       "      Volume  \n",
       "245  1282700  \n",
       "246  1633400  \n",
       "247  1216400  \n",
       "248  1444300  \n",
       "249  1040300  "
      ]
     },
     "execution_count": 5,
     "metadata": {},
     "output_type": "execute_result"
    }
   ],
   "source": [
    "df1.tail()"
   ]
  },
  {
   "cell_type": "code",
   "execution_count": 6,
   "metadata": {},
   "outputs": [
    {
     "name": "stdout",
     "output_type": "stream",
     "text": [
      "<class 'pandas.core.frame.DataFrame'>\n",
      "RangeIndex: 250 entries, 0 to 249\n",
      "Data columns (total 7 columns):\n",
      "Date         250 non-null object\n",
      "Open         250 non-null float64\n",
      "High         250 non-null float64\n",
      "Low          250 non-null float64\n",
      "Close        250 non-null float64\n",
      "Adj Close    250 non-null float64\n",
      "Volume       250 non-null int64\n",
      "dtypes: float64(5), int64(1), object(1)\n",
      "memory usage: 13.8+ KB\n"
     ]
    }
   ],
   "source": [
    "df1.info()"
   ]
  },
  {
   "cell_type": "code",
   "execution_count": 7,
   "metadata": {},
   "outputs": [],
   "source": [
    "df1['Date'] = pd.to_datetime(df1['Date'])"
   ]
  },
  {
   "cell_type": "code",
   "execution_count": 8,
   "metadata": {},
   "outputs": [
    {
     "name": "stdout",
     "output_type": "stream",
     "text": [
      "<class 'pandas.core.frame.DataFrame'>\n",
      "RangeIndex: 250 entries, 0 to 249\n",
      "Data columns (total 7 columns):\n",
      "Date         250 non-null datetime64[ns]\n",
      "Open         250 non-null float64\n",
      "High         250 non-null float64\n",
      "Low          250 non-null float64\n",
      "Close        250 non-null float64\n",
      "Adj Close    250 non-null float64\n",
      "Volume       250 non-null int64\n",
      "dtypes: datetime64[ns](1), float64(5), int64(1)\n",
      "memory usage: 13.8 KB\n"
     ]
    }
   ],
   "source": [
    "df1.info()"
   ]
  },
  {
   "cell_type": "code",
   "execution_count": 9,
   "metadata": {},
   "outputs": [],
   "source": [
    "df1.columns = df1.columns.str.upper()\n",
    "df1.columns = df1.columns.str.replace(' ', '_')"
   ]
  },
  {
   "cell_type": "code",
   "execution_count": 10,
   "metadata": {},
   "outputs": [
    {
     "data": {
      "text/html": [
       "<div>\n",
       "<style scoped>\n",
       "    .dataframe tbody tr th:only-of-type {\n",
       "        vertical-align: middle;\n",
       "    }\n",
       "\n",
       "    .dataframe tbody tr th {\n",
       "        vertical-align: top;\n",
       "    }\n",
       "\n",
       "    .dataframe thead th {\n",
       "        text-align: right;\n",
       "    }\n",
       "</style>\n",
       "<table border=\"1\" class=\"dataframe\">\n",
       "  <thead>\n",
       "    <tr style=\"text-align: right;\">\n",
       "      <th></th>\n",
       "      <th>DATE</th>\n",
       "      <th>OPEN</th>\n",
       "      <th>HIGH</th>\n",
       "      <th>LOW</th>\n",
       "      <th>CLOSE</th>\n",
       "      <th>ADJ_CLOSE</th>\n",
       "      <th>VOLUME</th>\n",
       "    </tr>\n",
       "  </thead>\n",
       "  <tbody>\n",
       "    <tr>\n",
       "      <td>0</td>\n",
       "      <td>2018-09-04</td>\n",
       "      <td>116.370003</td>\n",
       "      <td>117.449997</td>\n",
       "      <td>116.099998</td>\n",
       "      <td>116.989998</td>\n",
       "      <td>113.424011</td>\n",
       "      <td>2142900</td>\n",
       "    </tr>\n",
       "    <tr>\n",
       "      <td>1</td>\n",
       "      <td>2018-09-05</td>\n",
       "      <td>117.010002</td>\n",
       "      <td>118.279999</td>\n",
       "      <td>116.690002</td>\n",
       "      <td>118.139999</td>\n",
       "      <td>114.538956</td>\n",
       "      <td>1856300</td>\n",
       "    </tr>\n",
       "    <tr>\n",
       "      <td>2</td>\n",
       "      <td>2018-09-06</td>\n",
       "      <td>118.279999</td>\n",
       "      <td>118.970001</td>\n",
       "      <td>117.699997</td>\n",
       "      <td>118.029999</td>\n",
       "      <td>114.432312</td>\n",
       "      <td>1203800</td>\n",
       "    </tr>\n",
       "    <tr>\n",
       "      <td>3</td>\n",
       "      <td>2018-09-07</td>\n",
       "      <td>117.139999</td>\n",
       "      <td>117.589996</td>\n",
       "      <td>116.379997</td>\n",
       "      <td>116.849998</td>\n",
       "      <td>113.288277</td>\n",
       "      <td>1216500</td>\n",
       "    </tr>\n",
       "    <tr>\n",
       "      <td>4</td>\n",
       "      <td>2018-09-10</td>\n",
       "      <td>117.309998</td>\n",
       "      <td>118.199997</td>\n",
       "      <td>116.910004</td>\n",
       "      <td>117.599998</td>\n",
       "      <td>114.015419</td>\n",
       "      <td>1072000</td>\n",
       "    </tr>\n",
       "  </tbody>\n",
       "</table>\n",
       "</div>"
      ],
      "text/plain": [
       "        DATE        OPEN        HIGH         LOW       CLOSE   ADJ_CLOSE  \\\n",
       "0 2018-09-04  116.370003  117.449997  116.099998  116.989998  113.424011   \n",
       "1 2018-09-05  117.010002  118.279999  116.690002  118.139999  114.538956   \n",
       "2 2018-09-06  118.279999  118.970001  117.699997  118.029999  114.432312   \n",
       "3 2018-09-07  117.139999  117.589996  116.379997  116.849998  113.288277   \n",
       "4 2018-09-10  117.309998  118.199997  116.910004  117.599998  114.015419   \n",
       "\n",
       "    VOLUME  \n",
       "0  2142900  \n",
       "1  1856300  \n",
       "2  1203800  \n",
       "3  1216500  \n",
       "4  1072000  "
      ]
     },
     "execution_count": 10,
     "metadata": {},
     "output_type": "execute_result"
    }
   ],
   "source": [
    "df1.head()"
   ]
  },
  {
   "cell_type": "code",
   "execution_count": 11,
   "metadata": {},
   "outputs": [],
   "source": [
    "df = df1.loc[:,['DATE', 'ADJ_CLOSE', 'VOLUME']]\n",
    "df['HL_PCT'] = ((df1['HIGH'] - df1['LOW']) / df1['CLOSE']) * 100\n",
    "df['DELTA_PCT'] = ((df1['CLOSE'] - df1['OPEN']) / df1['OPEN']) *100"
   ]
  },
  {
   "cell_type": "code",
   "execution_count": 12,
   "metadata": {},
   "outputs": [
    {
     "data": {
      "text/plain": [
       "(250, 5)"
      ]
     },
     "execution_count": 12,
     "metadata": {},
     "output_type": "execute_result"
    }
   ],
   "source": [
    "df.shape"
   ]
  },
  {
   "cell_type": "code",
   "execution_count": 13,
   "metadata": {},
   "outputs": [
    {
     "data": {
      "text/html": [
       "<div>\n",
       "<style scoped>\n",
       "    .dataframe tbody tr th:only-of-type {\n",
       "        vertical-align: middle;\n",
       "    }\n",
       "\n",
       "    .dataframe tbody tr th {\n",
       "        vertical-align: top;\n",
       "    }\n",
       "\n",
       "    .dataframe thead th {\n",
       "        text-align: right;\n",
       "    }\n",
       "</style>\n",
       "<table border=\"1\" class=\"dataframe\">\n",
       "  <thead>\n",
       "    <tr style=\"text-align: right;\">\n",
       "      <th></th>\n",
       "      <th>DATE</th>\n",
       "      <th>ADJ_CLOSE</th>\n",
       "      <th>VOLUME</th>\n",
       "      <th>HL_PCT</th>\n",
       "      <th>DELTA_PCT</th>\n",
       "    </tr>\n",
       "  </thead>\n",
       "  <tbody>\n",
       "    <tr>\n",
       "      <td>0</td>\n",
       "      <td>2018-09-04</td>\n",
       "      <td>113.424011</td>\n",
       "      <td>2142900</td>\n",
       "      <td>1.153944</td>\n",
       "      <td>0.532779</td>\n",
       "    </tr>\n",
       "    <tr>\n",
       "      <td>1</td>\n",
       "      <td>2018-09-05</td>\n",
       "      <td>114.538956</td>\n",
       "      <td>1856300</td>\n",
       "      <td>1.345858</td>\n",
       "      <td>0.965727</td>\n",
       "    </tr>\n",
       "    <tr>\n",
       "      <td>2</td>\n",
       "      <td>2018-09-06</td>\n",
       "      <td>114.432312</td>\n",
       "      <td>1203800</td>\n",
       "      <td>1.076001</td>\n",
       "      <td>-0.211363</td>\n",
       "    </tr>\n",
       "    <tr>\n",
       "      <td>3</td>\n",
       "      <td>2018-09-07</td>\n",
       "      <td>113.288277</td>\n",
       "      <td>1216500</td>\n",
       "      <td>1.035515</td>\n",
       "      <td>-0.247568</td>\n",
       "    </tr>\n",
       "    <tr>\n",
       "      <td>4</td>\n",
       "      <td>2018-09-10</td>\n",
       "      <td>114.015419</td>\n",
       "      <td>1072000</td>\n",
       "      <td>1.096933</td>\n",
       "      <td>0.247208</td>\n",
       "    </tr>\n",
       "  </tbody>\n",
       "</table>\n",
       "</div>"
      ],
      "text/plain": [
       "        DATE   ADJ_CLOSE   VOLUME    HL_PCT  DELTA_PCT\n",
       "0 2018-09-04  113.424011  2142900  1.153944   0.532779\n",
       "1 2018-09-05  114.538956  1856300  1.345858   0.965727\n",
       "2 2018-09-06  114.432312  1203800  1.076001  -0.211363\n",
       "3 2018-09-07  113.288277  1216500  1.035515  -0.247568\n",
       "4 2018-09-10  114.015419  1072000  1.096933   0.247208"
      ]
     },
     "execution_count": 13,
     "metadata": {},
     "output_type": "execute_result"
    }
   ],
   "source": [
    "df.head()"
   ]
  },
  {
   "cell_type": "code",
   "execution_count": 14,
   "metadata": {},
   "outputs": [],
   "source": [
    "df['DATE'] = pd.to_datetime(df1['DATE'])"
   ]
  },
  {
   "cell_type": "code",
   "execution_count": 15,
   "metadata": {},
   "outputs": [
    {
     "data": {
      "text/html": [
       "<div>\n",
       "<style scoped>\n",
       "    .dataframe tbody tr th:only-of-type {\n",
       "        vertical-align: middle;\n",
       "    }\n",
       "\n",
       "    .dataframe tbody tr th {\n",
       "        vertical-align: top;\n",
       "    }\n",
       "\n",
       "    .dataframe thead th {\n",
       "        text-align: right;\n",
       "    }\n",
       "</style>\n",
       "<table border=\"1\" class=\"dataframe\">\n",
       "  <thead>\n",
       "    <tr style=\"text-align: right;\">\n",
       "      <th></th>\n",
       "      <th>DATE</th>\n",
       "      <th>ADJ_CLOSE</th>\n",
       "      <th>VOLUME</th>\n",
       "      <th>HL_PCT</th>\n",
       "      <th>DELTA_PCT</th>\n",
       "    </tr>\n",
       "  </thead>\n",
       "  <tbody>\n",
       "    <tr>\n",
       "      <td>0</td>\n",
       "      <td>2018-09-04</td>\n",
       "      <td>113.424011</td>\n",
       "      <td>2142900</td>\n",
       "      <td>1.153944</td>\n",
       "      <td>0.532779</td>\n",
       "    </tr>\n",
       "    <tr>\n",
       "      <td>1</td>\n",
       "      <td>2018-09-05</td>\n",
       "      <td>114.538956</td>\n",
       "      <td>1856300</td>\n",
       "      <td>1.345858</td>\n",
       "      <td>0.965727</td>\n",
       "    </tr>\n",
       "    <tr>\n",
       "      <td>2</td>\n",
       "      <td>2018-09-06</td>\n",
       "      <td>114.432312</td>\n",
       "      <td>1203800</td>\n",
       "      <td>1.076001</td>\n",
       "      <td>-0.211363</td>\n",
       "    </tr>\n",
       "    <tr>\n",
       "      <td>3</td>\n",
       "      <td>2018-09-07</td>\n",
       "      <td>113.288277</td>\n",
       "      <td>1216500</td>\n",
       "      <td>1.035515</td>\n",
       "      <td>-0.247568</td>\n",
       "    </tr>\n",
       "    <tr>\n",
       "      <td>4</td>\n",
       "      <td>2018-09-10</td>\n",
       "      <td>114.015419</td>\n",
       "      <td>1072000</td>\n",
       "      <td>1.096933</td>\n",
       "      <td>0.247208</td>\n",
       "    </tr>\n",
       "  </tbody>\n",
       "</table>\n",
       "</div>"
      ],
      "text/plain": [
       "        DATE   ADJ_CLOSE   VOLUME    HL_PCT  DELTA_PCT\n",
       "0 2018-09-04  113.424011  2142900  1.153944   0.532779\n",
       "1 2018-09-05  114.538956  1856300  1.345858   0.965727\n",
       "2 2018-09-06  114.432312  1203800  1.076001  -0.211363\n",
       "3 2018-09-07  113.288277  1216500  1.035515  -0.247568\n",
       "4 2018-09-10  114.015419  1072000  1.096933   0.247208"
      ]
     },
     "execution_count": 15,
     "metadata": {},
     "output_type": "execute_result"
    }
   ],
   "source": [
    "df.head()"
   ]
  },
  {
   "cell_type": "code",
   "execution_count": 16,
   "metadata": {},
   "outputs": [
    {
     "name": "stdout",
     "output_type": "stream",
     "text": [
      "<class 'pandas.core.frame.DataFrame'>\n",
      "RangeIndex: 250 entries, 0 to 249\n",
      "Data columns (total 5 columns):\n",
      "DATE         250 non-null datetime64[ns]\n",
      "ADJ_CLOSE    250 non-null float64\n",
      "VOLUME       250 non-null int64\n",
      "HL_PCT       250 non-null float64\n",
      "DELTA_PCT    250 non-null float64\n",
      "dtypes: datetime64[ns](1), float64(3), int64(1)\n",
      "memory usage: 9.9 KB\n"
     ]
    }
   ],
   "source": [
    "df.info()\n",
    "\n",
    "#No missing values."
   ]
  },
  {
   "cell_type": "code",
   "execution_count": 17,
   "metadata": {},
   "outputs": [],
   "source": [
    "df = df.set_index(['DATE'])"
   ]
  },
  {
   "cell_type": "code",
   "execution_count": 18,
   "metadata": {},
   "outputs": [
    {
     "data": {
      "text/html": [
       "<div>\n",
       "<style scoped>\n",
       "    .dataframe tbody tr th:only-of-type {\n",
       "        vertical-align: middle;\n",
       "    }\n",
       "\n",
       "    .dataframe tbody tr th {\n",
       "        vertical-align: top;\n",
       "    }\n",
       "\n",
       "    .dataframe thead th {\n",
       "        text-align: right;\n",
       "    }\n",
       "</style>\n",
       "<table border=\"1\" class=\"dataframe\">\n",
       "  <thead>\n",
       "    <tr style=\"text-align: right;\">\n",
       "      <th></th>\n",
       "      <th>ADJ_CLOSE</th>\n",
       "      <th>VOLUME</th>\n",
       "      <th>HL_PCT</th>\n",
       "      <th>DELTA_PCT</th>\n",
       "    </tr>\n",
       "    <tr>\n",
       "      <th>DATE</th>\n",
       "      <th></th>\n",
       "      <th></th>\n",
       "      <th></th>\n",
       "      <th></th>\n",
       "    </tr>\n",
       "  </thead>\n",
       "  <tbody>\n",
       "    <tr>\n",
       "      <td>2018-09-04</td>\n",
       "      <td>113.424011</td>\n",
       "      <td>2142900</td>\n",
       "      <td>1.153944</td>\n",
       "      <td>0.532779</td>\n",
       "    </tr>\n",
       "    <tr>\n",
       "      <td>2018-09-05</td>\n",
       "      <td>114.538956</td>\n",
       "      <td>1856300</td>\n",
       "      <td>1.345858</td>\n",
       "      <td>0.965727</td>\n",
       "    </tr>\n",
       "    <tr>\n",
       "      <td>2018-09-06</td>\n",
       "      <td>114.432312</td>\n",
       "      <td>1203800</td>\n",
       "      <td>1.076001</td>\n",
       "      <td>-0.211363</td>\n",
       "    </tr>\n",
       "    <tr>\n",
       "      <td>2018-09-07</td>\n",
       "      <td>113.288277</td>\n",
       "      <td>1216500</td>\n",
       "      <td>1.035515</td>\n",
       "      <td>-0.247568</td>\n",
       "    </tr>\n",
       "    <tr>\n",
       "      <td>2018-09-10</td>\n",
       "      <td>114.015419</td>\n",
       "      <td>1072000</td>\n",
       "      <td>1.096933</td>\n",
       "      <td>0.247208</td>\n",
       "    </tr>\n",
       "  </tbody>\n",
       "</table>\n",
       "</div>"
      ],
      "text/plain": [
       "             ADJ_CLOSE   VOLUME    HL_PCT  DELTA_PCT\n",
       "DATE                                                \n",
       "2018-09-04  113.424011  2142900  1.153944   0.532779\n",
       "2018-09-05  114.538956  1856300  1.345858   0.965727\n",
       "2018-09-06  114.432312  1203800  1.076001  -0.211363\n",
       "2018-09-07  113.288277  1216500  1.035515  -0.247568\n",
       "2018-09-10  114.015419  1072000  1.096933   0.247208"
      ]
     },
     "execution_count": 18,
     "metadata": {},
     "output_type": "execute_result"
    }
   ],
   "source": [
    "df.head()"
   ]
  },
  {
   "cell_type": "code",
   "execution_count": 19,
   "metadata": {},
   "outputs": [],
   "source": [
    "y = df['ADJ_CLOSE']"
   ]
  },
  {
   "cell_type": "code",
   "execution_count": 20,
   "metadata": {},
   "outputs": [],
   "source": [
    "X = df[['VOLUME', 'HL_PCT', 'DELTA_PCT']]"
   ]
  },
  {
   "cell_type": "markdown",
   "metadata": {},
   "source": [
    "### Developing the testing/training sets based on the pre-determined size (`train_test_split`)."
   ]
  },
  {
   "cell_type": "code",
   "execution_count": 21,
   "metadata": {},
   "outputs": [
    {
     "name": "stdout",
     "output_type": "stream",
     "text": [
      "Size of Training Set: 50\n"
     ]
    }
   ],
   "source": [
    "#Set size of training set at 20% and round up.\n",
    "train_size = math.ceil(0.20 * len(X))\n",
    "print('Size of Training Set: {}'.format(train_size))\n",
    "\n",
    "#Take the most recent samples as the testing set.\n",
    "y_test = y[-train_size:]\n",
    "X_test = X[-train_size:]\n",
    "\n",
    "#Take the oldest samples as the training set (i.e., all of the samples, minus the testing samples.)\n",
    "y_train = y[:(df.shape[0]-train_size)]\n",
    "X_train = X[:(df.shape[0]-train_size)]"
   ]
  },
  {
   "cell_type": "markdown",
   "metadata": {},
   "source": [
    "### Model 1:  Simple Linear Model\n",
    "`https://scikit-learn.org/stable/modules/generated/sklearn.linear_model.LinearRegression.html`"
   ]
  },
  {
   "cell_type": "code",
   "execution_count": 22,
   "metadata": {},
   "outputs": [
    {
     "name": "stdout",
     "output_type": "stream",
     "text": [
      "The R^2 of the linear model is: -70.462\n"
     ]
    }
   ],
   "source": [
    "lr = LinearRegression().fit(X_train, y_train)\n",
    "y_pred_lr = lr.predict(X_test)\n",
    "print('The R^2 of the linear model is: {0:.3f}'.format(lr.score(X_test, y_test)))"
   ]
  },
  {
   "cell_type": "code",
   "execution_count": 23,
   "metadata": {},
   "outputs": [
    {
     "data": {
      "text/html": [
       "<div>\n",
       "<style scoped>\n",
       "    .dataframe tbody tr th:only-of-type {\n",
       "        vertical-align: middle;\n",
       "    }\n",
       "\n",
       "    .dataframe tbody tr th {\n",
       "        vertical-align: top;\n",
       "    }\n",
       "\n",
       "    .dataframe thead th {\n",
       "        text-align: right;\n",
       "    }\n",
       "</style>\n",
       "<table border=\"1\" class=\"dataframe\">\n",
       "  <thead>\n",
       "    <tr style=\"text-align: right;\">\n",
       "      <th></th>\n",
       "      <th>PRED_ADJ_CLOSE</th>\n",
       "    </tr>\n",
       "    <tr>\n",
       "      <th>DATE</th>\n",
       "      <th></th>\n",
       "    </tr>\n",
       "  </thead>\n",
       "  <tbody>\n",
       "    <tr>\n",
       "      <td>2019-06-21</td>\n",
       "      <td>117.785939</td>\n",
       "    </tr>\n",
       "    <tr>\n",
       "      <td>2019-06-24</td>\n",
       "      <td>122.564533</td>\n",
       "    </tr>\n",
       "    <tr>\n",
       "      <td>2019-06-25</td>\n",
       "      <td>121.058025</td>\n",
       "    </tr>\n",
       "    <tr>\n",
       "      <td>2019-06-26</td>\n",
       "      <td>116.726072</td>\n",
       "    </tr>\n",
       "    <tr>\n",
       "      <td>2019-06-27</td>\n",
       "      <td>113.264711</td>\n",
       "    </tr>\n",
       "    <tr>\n",
       "      <td>2019-06-28</td>\n",
       "      <td>119.069993</td>\n",
       "    </tr>\n",
       "    <tr>\n",
       "      <td>2019-07-01</td>\n",
       "      <td>118.650340</td>\n",
       "    </tr>\n",
       "    <tr>\n",
       "      <td>2019-07-02</td>\n",
       "      <td>122.681508</td>\n",
       "    </tr>\n",
       "    <tr>\n",
       "      <td>2019-07-03</td>\n",
       "      <td>122.289192</td>\n",
       "    </tr>\n",
       "    <tr>\n",
       "      <td>2019-07-05</td>\n",
       "      <td>122.468277</td>\n",
       "    </tr>\n",
       "  </tbody>\n",
       "</table>\n",
       "</div>"
      ],
      "text/plain": [
       "            PRED_ADJ_CLOSE\n",
       "DATE                      \n",
       "2019-06-21      117.785939\n",
       "2019-06-24      122.564533\n",
       "2019-06-25      121.058025\n",
       "2019-06-26      116.726072\n",
       "2019-06-27      113.264711\n",
       "2019-06-28      119.069993\n",
       "2019-07-01      118.650340\n",
       "2019-07-02      122.681508\n",
       "2019-07-03      122.289192\n",
       "2019-07-05      122.468277"
      ]
     },
     "execution_count": 23,
     "metadata": {},
     "output_type": "execute_result"
    }
   ],
   "source": [
    "df_y_pred_lr = pd.DataFrame(y_pred_lr, index=X_test.index, columns=['PRED_ADJ_CLOSE'])\n",
    "df_y_pred_lr.head(10)"
   ]
  },
  {
   "cell_type": "markdown",
   "metadata": {},
   "source": [
    "### Model 2:  K-Nearest Neighbors (kNN) Regression \n",
    "`https://scikit-learn.org/stable/modules/generated/sklearn.neighbors.KNeighborsRegressor.html`"
   ]
  },
  {
   "cell_type": "code",
   "execution_count": 24,
   "metadata": {},
   "outputs": [
    {
     "name": "stdout",
     "output_type": "stream",
     "text": [
      "The R^2 of the kNN model is: -72.630\n"
     ]
    }
   ],
   "source": [
    "knn = KNeighborsRegressor(n_neighbors=3).fit(X_train, y_train)\n",
    "y_pred_knn = knn.predict(X_test)\n",
    "print('The R^2 of the kNN model is: {0:.3f}'.format(knn.score(X_test, y_test)))"
   ]
  },
  {
   "cell_type": "code",
   "execution_count": 25,
   "metadata": {},
   "outputs": [
    {
     "data": {
      "text/html": [
       "<div>\n",
       "<style scoped>\n",
       "    .dataframe tbody tr th:only-of-type {\n",
       "        vertical-align: middle;\n",
       "    }\n",
       "\n",
       "    .dataframe tbody tr th {\n",
       "        vertical-align: top;\n",
       "    }\n",
       "\n",
       "    .dataframe thead th {\n",
       "        text-align: right;\n",
       "    }\n",
       "</style>\n",
       "<table border=\"1\" class=\"dataframe\">\n",
       "  <thead>\n",
       "    <tr style=\"text-align: right;\">\n",
       "      <th></th>\n",
       "      <th>PRED_ADJ_CLOSE</th>\n",
       "    </tr>\n",
       "    <tr>\n",
       "      <th>DATE</th>\n",
       "      <th></th>\n",
       "    </tr>\n",
       "  </thead>\n",
       "  <tbody>\n",
       "    <tr>\n",
       "      <td>2019-06-21</td>\n",
       "      <td>117.017776</td>\n",
       "    </tr>\n",
       "    <tr>\n",
       "      <td>2019-06-24</td>\n",
       "      <td>126.300306</td>\n",
       "    </tr>\n",
       "    <tr>\n",
       "      <td>2019-06-25</td>\n",
       "      <td>115.934428</td>\n",
       "    </tr>\n",
       "    <tr>\n",
       "      <td>2019-06-26</td>\n",
       "      <td>125.719752</td>\n",
       "    </tr>\n",
       "    <tr>\n",
       "      <td>2019-06-27</td>\n",
       "      <td>110.279134</td>\n",
       "    </tr>\n",
       "    <tr>\n",
       "      <td>2019-06-28</td>\n",
       "      <td>125.961502</td>\n",
       "    </tr>\n",
       "    <tr>\n",
       "      <td>2019-07-01</td>\n",
       "      <td>124.769997</td>\n",
       "    </tr>\n",
       "    <tr>\n",
       "      <td>2019-07-02</td>\n",
       "      <td>125.324760</td>\n",
       "    </tr>\n",
       "    <tr>\n",
       "      <td>2019-07-03</td>\n",
       "      <td>126.300306</td>\n",
       "    </tr>\n",
       "    <tr>\n",
       "      <td>2019-07-05</td>\n",
       "      <td>126.300306</td>\n",
       "    </tr>\n",
       "  </tbody>\n",
       "</table>\n",
       "</div>"
      ],
      "text/plain": [
       "            PRED_ADJ_CLOSE\n",
       "DATE                      \n",
       "2019-06-21      117.017776\n",
       "2019-06-24      126.300306\n",
       "2019-06-25      115.934428\n",
       "2019-06-26      125.719752\n",
       "2019-06-27      110.279134\n",
       "2019-06-28      125.961502\n",
       "2019-07-01      124.769997\n",
       "2019-07-02      125.324760\n",
       "2019-07-03      126.300306\n",
       "2019-07-05      126.300306"
      ]
     },
     "execution_count": 25,
     "metadata": {},
     "output_type": "execute_result"
    }
   ],
   "source": [
    "df_y_pred_knn = pd.DataFrame(y_pred_knn, index=X_test.index, columns=['PRED_ADJ_CLOSE'])\n",
    "df_y_pred_knn.head(10)"
   ]
  },
  {
   "cell_type": "markdown",
   "metadata": {},
   "source": [
    "### Model 3:  Ridge Regression\n",
    "`https://scikit-learn.org/stable/modules/generated/sklearn.linear_model.Ridge.html`"
   ]
  },
  {
   "cell_type": "code",
   "execution_count": 26,
   "metadata": {},
   "outputs": [
    {
     "name": "stdout",
     "output_type": "stream",
     "text": [
      "The R^2 of the ridge model is: -70.465\n"
     ]
    }
   ],
   "source": [
    "ridge = Ridge(random_state=42).fit(X_train, y_train)\n",
    "y_pred_ridge = ridge.predict(X_test)\n",
    "print('The R^2 of the ridge model is: {0:.3f}'.format(ridge.score(X_test, y_test)))"
   ]
  },
  {
   "cell_type": "code",
   "execution_count": 27,
   "metadata": {},
   "outputs": [
    {
     "data": {
      "text/html": [
       "<div>\n",
       "<style scoped>\n",
       "    .dataframe tbody tr th:only-of-type {\n",
       "        vertical-align: middle;\n",
       "    }\n",
       "\n",
       "    .dataframe tbody tr th {\n",
       "        vertical-align: top;\n",
       "    }\n",
       "\n",
       "    .dataframe thead th {\n",
       "        text-align: right;\n",
       "    }\n",
       "</style>\n",
       "<table border=\"1\" class=\"dataframe\">\n",
       "  <thead>\n",
       "    <tr style=\"text-align: right;\">\n",
       "      <th></th>\n",
       "      <th>PRED_ADJ_CLOSE</th>\n",
       "    </tr>\n",
       "    <tr>\n",
       "      <th>DATE</th>\n",
       "      <th></th>\n",
       "    </tr>\n",
       "  </thead>\n",
       "  <tbody>\n",
       "    <tr>\n",
       "      <td>2019-06-21</td>\n",
       "      <td>117.781720</td>\n",
       "    </tr>\n",
       "    <tr>\n",
       "      <td>2019-06-24</td>\n",
       "      <td>122.558465</td>\n",
       "    </tr>\n",
       "    <tr>\n",
       "      <td>2019-06-25</td>\n",
       "      <td>121.053035</td>\n",
       "    </tr>\n",
       "    <tr>\n",
       "      <td>2019-06-26</td>\n",
       "      <td>116.743944</td>\n",
       "    </tr>\n",
       "    <tr>\n",
       "      <td>2019-06-27</td>\n",
       "      <td>113.265293</td>\n",
       "    </tr>\n",
       "    <tr>\n",
       "      <td>2019-06-28</td>\n",
       "      <td>119.064801</td>\n",
       "    </tr>\n",
       "    <tr>\n",
       "      <td>2019-07-01</td>\n",
       "      <td>118.661232</td>\n",
       "    </tr>\n",
       "    <tr>\n",
       "      <td>2019-07-02</td>\n",
       "      <td>122.672532</td>\n",
       "    </tr>\n",
       "    <tr>\n",
       "      <td>2019-07-03</td>\n",
       "      <td>122.286511</td>\n",
       "    </tr>\n",
       "    <tr>\n",
       "      <td>2019-07-05</td>\n",
       "      <td>122.470474</td>\n",
       "    </tr>\n",
       "  </tbody>\n",
       "</table>\n",
       "</div>"
      ],
      "text/plain": [
       "            PRED_ADJ_CLOSE\n",
       "DATE                      \n",
       "2019-06-21      117.781720\n",
       "2019-06-24      122.558465\n",
       "2019-06-25      121.053035\n",
       "2019-06-26      116.743944\n",
       "2019-06-27      113.265293\n",
       "2019-06-28      119.064801\n",
       "2019-07-01      118.661232\n",
       "2019-07-02      122.672532\n",
       "2019-07-03      122.286511\n",
       "2019-07-05      122.470474"
      ]
     },
     "execution_count": 27,
     "metadata": {},
     "output_type": "execute_result"
    }
   ],
   "source": [
    "df_y_pred_ridge = pd.DataFrame(y_pred_ridge, index=X_test.index, columns=['PRED_ADJ_CLOSE'])\n",
    "df_y_pred_ridge.head(10)"
   ]
  }
 ],
 "metadata": {
  "kernelspec": {
   "display_name": "Python 3",
   "language": "python",
   "name": "python3"
  },
  "language_info": {
   "codemirror_mode": {
    "name": "ipython",
    "version": 3
   },
   "file_extension": ".py",
   "mimetype": "text/x-python",
   "name": "python",
   "nbconvert_exporter": "python",
   "pygments_lexer": "ipython3",
   "version": "3.7.4"
  }
 },
 "nbformat": 4,
 "nbformat_minor": 2
}
