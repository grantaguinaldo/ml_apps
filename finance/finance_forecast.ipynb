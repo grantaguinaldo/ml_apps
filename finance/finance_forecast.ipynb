{
 "cells": [
  {
   "cell_type": "code",
   "execution_count": 14,
   "metadata": {},
   "outputs": [],
   "source": [
    "import pandas as pd\n",
    "import matplotlib.pyplot as plt\n",
    "%matplotlib inline"
   ]
  },
  {
   "cell_type": "code",
   "execution_count": 15,
   "metadata": {},
   "outputs": [],
   "source": [
    "df1 = pd.read_csv('./data_in/SRE.csv')"
   ]
  },
  {
   "cell_type": "code",
   "execution_count": 16,
   "metadata": {},
   "outputs": [
    {
     "data": {
      "text/html": [
       "<div>\n",
       "<style scoped>\n",
       "    .dataframe tbody tr th:only-of-type {\n",
       "        vertical-align: middle;\n",
       "    }\n",
       "\n",
       "    .dataframe tbody tr th {\n",
       "        vertical-align: top;\n",
       "    }\n",
       "\n",
       "    .dataframe thead th {\n",
       "        text-align: right;\n",
       "    }\n",
       "</style>\n",
       "<table border=\"1\" class=\"dataframe\">\n",
       "  <thead>\n",
       "    <tr style=\"text-align: right;\">\n",
       "      <th></th>\n",
       "      <th>Date</th>\n",
       "      <th>Open</th>\n",
       "      <th>High</th>\n",
       "      <th>Low</th>\n",
       "      <th>Close</th>\n",
       "      <th>Adj Close</th>\n",
       "      <th>Volume</th>\n",
       "    </tr>\n",
       "  </thead>\n",
       "  <tbody>\n",
       "    <tr>\n",
       "      <td>0</td>\n",
       "      <td>2018-09-04</td>\n",
       "      <td>116.370003</td>\n",
       "      <td>117.449997</td>\n",
       "      <td>116.099998</td>\n",
       "      <td>116.989998</td>\n",
       "      <td>113.424011</td>\n",
       "      <td>2142900</td>\n",
       "    </tr>\n",
       "    <tr>\n",
       "      <td>1</td>\n",
       "      <td>2018-09-05</td>\n",
       "      <td>117.010002</td>\n",
       "      <td>118.279999</td>\n",
       "      <td>116.690002</td>\n",
       "      <td>118.139999</td>\n",
       "      <td>114.538956</td>\n",
       "      <td>1856300</td>\n",
       "    </tr>\n",
       "    <tr>\n",
       "      <td>2</td>\n",
       "      <td>2018-09-06</td>\n",
       "      <td>118.279999</td>\n",
       "      <td>118.970001</td>\n",
       "      <td>117.699997</td>\n",
       "      <td>118.029999</td>\n",
       "      <td>114.432312</td>\n",
       "      <td>1203800</td>\n",
       "    </tr>\n",
       "    <tr>\n",
       "      <td>3</td>\n",
       "      <td>2018-09-07</td>\n",
       "      <td>117.139999</td>\n",
       "      <td>117.589996</td>\n",
       "      <td>116.379997</td>\n",
       "      <td>116.849998</td>\n",
       "      <td>113.288277</td>\n",
       "      <td>1216500</td>\n",
       "    </tr>\n",
       "    <tr>\n",
       "      <td>4</td>\n",
       "      <td>2018-09-10</td>\n",
       "      <td>117.309998</td>\n",
       "      <td>118.199997</td>\n",
       "      <td>116.910004</td>\n",
       "      <td>117.599998</td>\n",
       "      <td>114.015419</td>\n",
       "      <td>1072000</td>\n",
       "    </tr>\n",
       "  </tbody>\n",
       "</table>\n",
       "</div>"
      ],
      "text/plain": [
       "         Date        Open        High         Low       Close   Adj Close  \\\n",
       "0  2018-09-04  116.370003  117.449997  116.099998  116.989998  113.424011   \n",
       "1  2018-09-05  117.010002  118.279999  116.690002  118.139999  114.538956   \n",
       "2  2018-09-06  118.279999  118.970001  117.699997  118.029999  114.432312   \n",
       "3  2018-09-07  117.139999  117.589996  116.379997  116.849998  113.288277   \n",
       "4  2018-09-10  117.309998  118.199997  116.910004  117.599998  114.015419   \n",
       "\n",
       "    Volume  \n",
       "0  2142900  \n",
       "1  1856300  \n",
       "2  1203800  \n",
       "3  1216500  \n",
       "4  1072000  "
      ]
     },
     "execution_count": 16,
     "metadata": {},
     "output_type": "execute_result"
    }
   ],
   "source": [
    "df1.head()"
   ]
  },
  {
   "cell_type": "code",
   "execution_count": 17,
   "metadata": {},
   "outputs": [
    {
     "data": {
      "text/plain": [
       "(250, 7)"
      ]
     },
     "execution_count": 17,
     "metadata": {},
     "output_type": "execute_result"
    }
   ],
   "source": [
    "df1.shape"
   ]
  },
  {
   "cell_type": "code",
   "execution_count": 18,
   "metadata": {},
   "outputs": [
    {
     "data": {
      "text/html": [
       "<div>\n",
       "<style scoped>\n",
       "    .dataframe tbody tr th:only-of-type {\n",
       "        vertical-align: middle;\n",
       "    }\n",
       "\n",
       "    .dataframe tbody tr th {\n",
       "        vertical-align: top;\n",
       "    }\n",
       "\n",
       "    .dataframe thead th {\n",
       "        text-align: right;\n",
       "    }\n",
       "</style>\n",
       "<table border=\"1\" class=\"dataframe\">\n",
       "  <thead>\n",
       "    <tr style=\"text-align: right;\">\n",
       "      <th></th>\n",
       "      <th>Date</th>\n",
       "      <th>Open</th>\n",
       "      <th>High</th>\n",
       "      <th>Low</th>\n",
       "      <th>Close</th>\n",
       "      <th>Adj Close</th>\n",
       "      <th>Volume</th>\n",
       "    </tr>\n",
       "  </thead>\n",
       "  <tbody>\n",
       "    <tr>\n",
       "      <td>245</td>\n",
       "      <td>2019-08-26</td>\n",
       "      <td>139.070007</td>\n",
       "      <td>141.919998</td>\n",
       "      <td>138.990005</td>\n",
       "      <td>141.789993</td>\n",
       "      <td>141.789993</td>\n",
       "      <td>1282700</td>\n",
       "    </tr>\n",
       "    <tr>\n",
       "      <td>246</td>\n",
       "      <td>2019-08-27</td>\n",
       "      <td>142.500000</td>\n",
       "      <td>142.860001</td>\n",
       "      <td>141.029999</td>\n",
       "      <td>141.429993</td>\n",
       "      <td>141.429993</td>\n",
       "      <td>1633400</td>\n",
       "    </tr>\n",
       "    <tr>\n",
       "      <td>247</td>\n",
       "      <td>2019-08-28</td>\n",
       "      <td>141.570007</td>\n",
       "      <td>142.149994</td>\n",
       "      <td>141.009995</td>\n",
       "      <td>142.000000</td>\n",
       "      <td>142.000000</td>\n",
       "      <td>1216400</td>\n",
       "    </tr>\n",
       "    <tr>\n",
       "      <td>248</td>\n",
       "      <td>2019-08-29</td>\n",
       "      <td>142.330002</td>\n",
       "      <td>142.660004</td>\n",
       "      <td>141.639999</td>\n",
       "      <td>142.240005</td>\n",
       "      <td>142.240005</td>\n",
       "      <td>1444300</td>\n",
       "    </tr>\n",
       "    <tr>\n",
       "      <td>249</td>\n",
       "      <td>2019-08-30</td>\n",
       "      <td>142.910004</td>\n",
       "      <td>142.910004</td>\n",
       "      <td>141.320007</td>\n",
       "      <td>141.630005</td>\n",
       "      <td>141.630005</td>\n",
       "      <td>1040300</td>\n",
       "    </tr>\n",
       "  </tbody>\n",
       "</table>\n",
       "</div>"
      ],
      "text/plain": [
       "           Date        Open        High         Low       Close   Adj Close  \\\n",
       "245  2019-08-26  139.070007  141.919998  138.990005  141.789993  141.789993   \n",
       "246  2019-08-27  142.500000  142.860001  141.029999  141.429993  141.429993   \n",
       "247  2019-08-28  141.570007  142.149994  141.009995  142.000000  142.000000   \n",
       "248  2019-08-29  142.330002  142.660004  141.639999  142.240005  142.240005   \n",
       "249  2019-08-30  142.910004  142.910004  141.320007  141.630005  141.630005   \n",
       "\n",
       "      Volume  \n",
       "245  1282700  \n",
       "246  1633400  \n",
       "247  1216400  \n",
       "248  1444300  \n",
       "249  1040300  "
      ]
     },
     "execution_count": 18,
     "metadata": {},
     "output_type": "execute_result"
    }
   ],
   "source": [
    "df1.tail()"
   ]
  },
  {
   "cell_type": "code",
   "execution_count": 19,
   "metadata": {},
   "outputs": [
    {
     "name": "stdout",
     "output_type": "stream",
     "text": [
      "<class 'pandas.core.frame.DataFrame'>\n",
      "RangeIndex: 250 entries, 0 to 249\n",
      "Data columns (total 7 columns):\n",
      "Date         250 non-null object\n",
      "Open         250 non-null float64\n",
      "High         250 non-null float64\n",
      "Low          250 non-null float64\n",
      "Close        250 non-null float64\n",
      "Adj Close    250 non-null float64\n",
      "Volume       250 non-null int64\n",
      "dtypes: float64(5), int64(1), object(1)\n",
      "memory usage: 13.8+ KB\n"
     ]
    }
   ],
   "source": [
    "df1.info()"
   ]
  },
  {
   "cell_type": "code",
   "execution_count": 20,
   "metadata": {},
   "outputs": [],
   "source": [
    "df1['Date'] = pd.to_datetime(df1['Date'])"
   ]
  },
  {
   "cell_type": "code",
   "execution_count": 21,
   "metadata": {},
   "outputs": [
    {
     "name": "stdout",
     "output_type": "stream",
     "text": [
      "<class 'pandas.core.frame.DataFrame'>\n",
      "RangeIndex: 250 entries, 0 to 249\n",
      "Data columns (total 7 columns):\n",
      "Date         250 non-null datetime64[ns]\n",
      "Open         250 non-null float64\n",
      "High         250 non-null float64\n",
      "Low          250 non-null float64\n",
      "Close        250 non-null float64\n",
      "Adj Close    250 non-null float64\n",
      "Volume       250 non-null int64\n",
      "dtypes: datetime64[ns](1), float64(5), int64(1)\n",
      "memory usage: 13.8 KB\n"
     ]
    }
   ],
   "source": [
    "df1.info()"
   ]
  },
  {
   "cell_type": "code",
   "execution_count": 31,
   "metadata": {},
   "outputs": [],
   "source": [
    "close_price = df1['Close']\n",
    "mov_avg = close_price.rolling(window=5).mean()"
   ]
  },
  {
   "cell_type": "code",
   "execution_count": 32,
   "metadata": {},
   "outputs": [
    {
     "data": {
      "text/plain": [
       "0           NaN\n",
       "1           NaN\n",
       "2           NaN\n",
       "3           NaN\n",
       "4    117.521998\n",
       "5    117.567999\n",
       "6    117.495999\n",
       "7    117.623999\n",
       "8    118.000000\n",
       "9    118.254001\n",
       "Name: Close, dtype: float64"
      ]
     },
     "execution_count": 32,
     "metadata": {},
     "output_type": "execute_result"
    }
   ],
   "source": [
    "mov_avg.head(10)"
   ]
  },
  {
   "cell_type": "code",
   "execution_count": 47,
   "metadata": {},
   "outputs": [
    {
     "data": {
      "image/png": "[encoded data removed]",
      "text/plain": [
       "<Figure size 1080x504 with 1 Axes>"
      ]
     },
     "metadata": {
      "needs_background": "light"
     },
     "output_type": "display_data"
    }
   ],
   "source": [
    "plt.figure(figsize=(15, 7))\n",
    "mov_avg.plot(label='Moving Average')\n",
    "df1['Close'].plot(label='SRE')\n",
    "plt.title('Sempra Energy (SRE) Closing Price', fontsize=14)\n",
    "plt.ylabel('Closing Stock Price ($)', fontsize=14)\n",
    "plt.legend()\n",
    "plt.show()"
   ]
  },
  {
   "cell_type": "code",
   "execution_count": null,
   "metadata": {},
   "outputs": [],
   "source": []
  }
 ],
 "metadata": {
  "kernelspec": {
   "display_name": "Python 3",
   "language": "python",
   "name": "python3"
  },
  "language_info": {
   "codemirror_mode": {
    "name": "ipython",
    "version": 3
   },
   "file_extension": ".py",
   "mimetype": "text/x-python",
   "name": "python",
   "nbconvert_exporter": "python",
   "pygments_lexer": "ipython3",
   "version": "3.7.4"
  }
 },
 "nbformat": 4,
 "nbformat_minor": 2
}
